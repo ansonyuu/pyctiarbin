{
 "cells": [
  {
   "cell_type": "code",
   "execution_count": 2,
   "metadata": {},
   "outputs": [
    {
     "data": {
      "text/plain": [
       "12"
      ]
     },
     "execution_count": 2,
     "metadata": {},
     "output_type": "execute_result"
    }
   ],
   "source": [
    "5 + 7"
   ]
  },
  {
   "cell_type": "code",
   "execution_count": 3,
   "metadata": {},
   "outputs": [],
   "source": [
    "from pyctiarbin.arbinspoofer import ArbinSpoofer\n",
    "\n",
    "SPOOFER_CONFIG_DICT = {\n",
    "    \"ip\": \"127.0.0.1\",\n",
    "    \"port\": 9031,\n",
    "    \"num_channels\": 8\n",
    "}\n",
    "# arbin_spoofer = ArbinSpoofer(SPOOFER_CONFIG_DICT)\n",
    "# arbin_spoofer.start()"
   ]
  },
  {
   "attachments": {},
   "cell_type": "markdown",
   "metadata": {},
   "source": [
    "Wunderbar! Now let's start with creating a `CyclerInterface` class instance. Like the `ArbinSpoofer`, a class instance of `CyclerInterface`:"
   ]
  },
  {
   "cell_type": "code",
   "execution_count": 4,
   "metadata": {},
   "outputs": [],
   "source": [
    "from pyctiarbin import CyclerInterface\n",
    "\n",
    "CYCLER_INTERFACE_CONFIG = {\n",
    "    \"ip_address\": SPOOFER_CONFIG_DICT['ip'],\n",
    "    \"port\": SPOOFER_CONFIG_DICT['port'],\n",
    "    \"timeout_s\": 3,\n",
    "    \"msg_buffer_size\": 4096\n",
    "}\n",
    "\n",
    "cycler_interface = CyclerInterface(CYCLER_INTERFACE_CONFIG)"
   ]
  },
  {
   "attachments": {},
   "cell_type": "markdown",
   "metadata": {},
   "source": [
    "Welcome to the `pycti-arbin` demo! Here we will walk through the basic functionality of the module. \n",
    "\n",
    "----\n",
    "\n",
    " Before we can talk to a Arbin cycler we must have a Arbin cycler to talk to. Testing software functionality on a real cycler is dangerous so we've created a submodule `arbinspoofer` to emulate some of the behavior of the Arbin software. Note that if you want this demo to work with your Arbin cycler you will need to set the correct IP and port."
   ]
  },
  {
   "attachments": {},
   "cell_type": "markdown",
   "metadata": {},
   "source": [
    "Wunderbar! Now let's start with creating a `CyclerInterface` class instance. Like the `ArbinSpoofer`, a class instance of `CyclerInterface`:"
   ]
  },
  {
   "attachments": {},
   "cell_type": "markdown",
   "metadata": {},
   "source": [
    "With a `CyclerInterface` we can read the status of any channel on the cycler:"
   ]
  },
  {
   "cell_type": "code",
   "execution_count": 9,
   "metadata": {},
   "outputs": [
    {
     "data": {
      "text/plain": [
       "{'header': 1287429013477645789,\n",
       " 'msg_length': 1779,\n",
       " 'command_code': 4005167107,\n",
       " 'extended_command_code': 0,\n",
       " 'number_of_channels': 1,\n",
       " 'channel': 7,\n",
       " 'status': 'Charge',\n",
       " 'comm_failure': 0,\n",
       " 'schedule': 'schedule_0720_c_0_05ma+TestObject_5.sdx',\n",
       " 'testname': 'C22_0723_Ccyc5_0_05',\n",
       " 'exit_condition': 'N/A',\n",
       " 'step_and_cycle_format': '[1] 1: Step_C, Current(A)',\n",
       " 'barcode': '',\n",
       " 'can_config_name': '',\n",
       " 'smb_config_name': '',\n",
       " 'master_channel': 7,\n",
       " 'test_time_s': 13537.0358,\n",
       " 'step_time_s': 13537.0358,\n",
       " 'voltage_v': 2.7059664726257324,\n",
       " 'current_a': 5.0961971282958984e-05,\n",
       " 'power_w': 0.00013790138473268598,\n",
       " 'charge_capacity_ah': 0.00019165615958627313,\n",
       " 'discharge_capacity_ah': 4.073645240576518e-11,\n",
       " 'charge_energy_wh': 0.0004543567483779043,\n",
       " 'discharge_energy_wh': 3.424877048630037e-11,\n",
       " 'internal_resistance_ohm': 0.0,\n",
       " 'dvdt_vbys': 0.0,\n",
       " 'acr_ohm': 0.0,\n",
       " 'aci_ohm': 0.0,\n",
       " 'aci_phase_degrees': 0.0,\n",
       " 'aux_voltage_count': 0,\n",
       " 'aux_temperature_count': 0,\n",
       " 'aux_pressure_count': 0,\n",
       " 'aux_external_count': 0,\n",
       " 'aux_flow_count': 0,\n",
       " 'aux_ao_count': 0,\n",
       " 'aux_di_count': 0,\n",
       " 'aux_do_count': 0,\n",
       " 'aux_humidity_count': 0,\n",
       " 'aux_safety_count': 0,\n",
       " 'aux_ph_count': 0,\n",
       " 'aux_density_count': 0,\n",
       " 'bms_count': 0,\n",
       " 'smb_count': 0,\n",
       " 'aux_voltage': [],\n",
       " 'aux_voltage_dt': [],\n",
       " 'aux_temperature': [],\n",
       " 'aux_temperature_dt': [],\n",
       " 'aux_pressure': [],\n",
       " 'aux_pressure_dt': [],\n",
       " 'aux_external': [],\n",
       " 'aux_external_dt': [],\n",
       " 'aux_flow': [],\n",
       " 'aux_flow_dt': [],\n",
       " 'aux_ao': [],\n",
       " 'aux_ao_dt': [],\n",
       " 'aux_di': [],\n",
       " 'aux_di_dt': [],\n",
       " 'aux_do': [],\n",
       " 'aux_do_dt': [],\n",
       " 'aux_humidity': [],\n",
       " 'aux_humidity_dt': [],\n",
       " 'aux_safety': [],\n",
       " 'aux_safety_dt': [],\n",
       " 'aux_ph': [],\n",
       " 'aux_ph_dt': [],\n",
       " 'aux_density': [],\n",
       " 'aux_density_dt': []}"
      ]
     },
     "execution_count": 9,
     "metadata": {},
     "output_type": "execute_result"
    }
   ],
   "source": [
    "cycler_interface.read_channel_status(channel=8)"
   ]
  },
  {
   "attachments": {},
   "cell_type": "markdown",
   "metadata": {},
   "source": [
    "The `CyclerInterface` class only allows for read operations with the cycler. To do more interesting we need a `ChannelInterface`:"
   ]
  },
  {
   "cell_type": "code",
   "execution_count": 7,
   "metadata": {},
   "outputs": [],
   "source": [
    "from pyctiarbin import ChannelInterface\n",
    "\n",
    "CHANNEL_INTERFACE_CONFIG = {\n",
    "  \"channel\": 1,\n",
    "  \"test_name\": \"fake_test_name\",\n",
    "  \"schedule_name\": \"Rest+207855.sdx\",\n",
    "  \"ip_address\": SPOOFER_CONFIG_DICT['ip'],\n",
    "  \"port\": SPOOFER_CONFIG_DICT['port'],\n",
    "  \"timeout_s\": 3,\n",
    "  \"msg_buffer_size\": 4096\n",
    "}\n",
    "channel_interface = ChannelInterface(CHANNEL_INTERFACE_CONFIG)"
   ]
  },
  {
   "attachments": {},
   "cell_type": "markdown",
   "metadata": {},
   "source": [
    "We do not need to specify a channel when reading channel status with a `ChannelInterface` since it is already specified in the config:"
   ]
  },
  {
   "cell_type": "code",
   "execution_count": 8,
   "metadata": {},
   "outputs": [
    {
     "data": {
      "text/plain": [
       "{'header': 1287429013477645789,\n",
       " 'msg_length': 1779,\n",
       " 'command_code': 4005167107,\n",
       " 'extended_command_code': 0,\n",
       " 'number_of_channels': 1,\n",
       " 'channel': 0,\n",
       " 'status': 'Idle',\n",
       " 'comm_failure': 0,\n",
       " 'schedule': 'fake_schedule',\n",
       " 'testname': 'fake_testname',\n",
       " 'exit_condition': 'none',\n",
       " 'step_and_cycle_format': 'none',\n",
       " 'barcode': 'none',\n",
       " 'can_config_name': 'none',\n",
       " 'smb_config_name': 'none',\n",
       " 'master_channel': 0,\n",
       " 'test_time_s': 0.0,\n",
       " 'step_time_s': 0.0,\n",
       " 'voltage_v': 0.0,\n",
       " 'current_a': 0.0,\n",
       " 'power_w': 0.0,\n",
       " 'charge_capacity_ah': 0.0,\n",
       " 'discharge_capacity_ah': 0.0,\n",
       " 'charge_energy_wh': 0.0,\n",
       " 'discharge_energy_wh': 0.0,\n",
       " 'internal_resistance_ohm': 0.0,\n",
       " 'dvdt_vbys': 0.0,\n",
       " 'acr_ohm': 0.0,\n",
       " 'aci_ohm': 0.0,\n",
       " 'aci_phase_degrees': 0.0,\n",
       " 'aux_voltage_count': 0,\n",
       " 'aux_temperature_count': 0,\n",
       " 'aux_pressure_count': 0,\n",
       " 'aux_external_count': 0,\n",
       " 'aux_flow_count': 0,\n",
       " 'aux_ao_count': 0,\n",
       " 'aux_di_count': 0,\n",
       " 'aux_do_count': 0,\n",
       " 'aux_humidity_count': 0,\n",
       " 'aux_safety_count': 0,\n",
       " 'aux_ph_count': 0,\n",
       " 'aux_density_count': 0,\n",
       " 'bms_count': 0,\n",
       " 'smb_count': 0,\n",
       " 'aux_voltage': [],\n",
       " 'aux_voltage_dt': [],\n",
       " 'aux_temperature': [],\n",
       " 'aux_temperature_dt': [],\n",
       " 'aux_pressure': [],\n",
       " 'aux_pressure_dt': [],\n",
       " 'aux_external': [],\n",
       " 'aux_external_dt': [],\n",
       " 'aux_flow': [],\n",
       " 'aux_flow_dt': [],\n",
       " 'aux_ao': [],\n",
       " 'aux_ao_dt': [],\n",
       " 'aux_di': [],\n",
       " 'aux_di_dt': [],\n",
       " 'aux_do': [],\n",
       " 'aux_do_dt': [],\n",
       " 'aux_humidity': [],\n",
       " 'aux_humidity_dt': [],\n",
       " 'aux_safety': [],\n",
       " 'aux_safety_dt': [],\n",
       " 'aux_ph': [],\n",
       " 'aux_ph_dt': [],\n",
       " 'aux_density': [],\n",
       " 'aux_density_dt': []}"
      ]
     },
     "execution_count": 8,
     "metadata": {},
     "output_type": "execute_result"
    }
   ],
   "source": [
    "channel_interface.read_channel_status()"
   ]
  },
  {
   "attachments": {},
   "cell_type": "markdown",
   "metadata": {},
   "source": [
    "We can also do things like assign a schedule to a channel. This method assigns the schedule to the channel defined in the config:"
   ]
  },
  {
   "cell_type": "code",
   "execution_count": 9,
   "metadata": {},
   "outputs": [
    {
     "data": {
      "text/plain": [
       "True"
      ]
     },
     "execution_count": 9,
     "metadata": {},
     "output_type": "execute_result"
    }
   ],
   "source": [
    "channel_interface.assign_schedule()"
   ]
  },
  {
   "attachments": {},
   "cell_type": "markdown",
   "metadata": {},
   "source": [
    "We can also start tests with the test name and schedule defined in the config:"
   ]
  },
  {
   "cell_type": "code",
   "execution_count": 10,
   "metadata": {},
   "outputs": [
    {
     "data": {
      "text/plain": [
       "True"
      ]
     },
     "execution_count": 10,
     "metadata": {},
     "output_type": "execute_result"
    }
   ],
   "source": [
    "channel_interface.start_test()"
   ]
  },
  {
   "attachments": {},
   "cell_type": "markdown",
   "metadata": {},
   "source": [
    "For running tests we can set the test meta-variable vales:"
   ]
  },
  {
   "cell_type": "code",
   "execution_count": 11,
   "metadata": {},
   "outputs": [
    {
     "data": {
      "text/plain": [
       "True"
      ]
     },
     "execution_count": 11,
     "metadata": {},
     "output_type": "execute_result"
    }
   ],
   "source": [
    "channel_interface.set_meta_variable(mv_num = 1, mv_value=3.200)"
   ]
  },
  {
   "attachments": {},
   "cell_type": "markdown",
   "metadata": {},
   "source": [
    "And we can also stop the test:"
   ]
  },
  {
   "cell_type": "code",
   "execution_count": 13,
   "metadata": {},
   "outputs": [
    {
     "data": {
      "text/plain": [
       "True"
      ]
     },
     "execution_count": 13,
     "metadata": {},
     "output_type": "execute_result"
    }
   ],
   "source": [
    "channel_interface.stop_test()"
   ]
  },
  {
   "cell_type": "code",
   "execution_count": 2,
   "metadata": {},
   "outputs": [],
   "source": [
    "from pyctiarbin import CyclerInterface\n",
    "\n",
    "CYCLER_INTERFACE_CONFIG = {\n",
    "    \"ip_address\": \"127.0.0.1\",\n",
    "    \"port\": 9031,\n",
    "    \"timeout_s\": 3,\n",
    "    \"msg_buffer_size\": 4096\n",
    "}\n",
    "\n",
    "cycler_interface = CyclerInterface(CYCLER_INTERFACE_CONFIG)\n",
    "\n",
    "# Example channel data\n",
    "\"\"\"\n",
    "{'header': 1287429013477645789,\n",
    " 'msg_length': 1779,\n",
    " 'command_code': 4005167107,\n",
    " 'extended_command_code': 0,\n",
    " 'number_of_channels': 1,\n",
    " 'channel': 7,\n",
    " 'status': 'Charge',\n",
    " 'comm_failure': 0,\n",
    " 'schedule': 'schedule_0720_c_0_05ma+TestObject_5.sdx',\n",
    " 'testname': 'C22_0723_Ccyc5_0_05',\n",
    " 'exit_condition': 'N/A',\n",
    " 'step_and_cycle_format': '[1] 1: Step_C, Current(A)',\n",
    " 'barcode': '',\n",
    " 'can_config_name': '',\n",
    " 'smb_config_name': '',\n",
    " 'master_channel': 7,\n",
    " 'test_time_s': 28361.393,\n",
    " 'step_time_s': 28361.393,\n",
    " 'voltage_v': 3.1838936805725098,\n",
    " 'current_a': 5.036592483520508e-05,\n",
    " 'power_w': 0.0001603597484063357,\n",
    " 'charge_capacity_ah': 0.00040218798676505685,\n",
    " 'discharge_capacity_ah': 4.073645240576518e-11,\n",
    " 'charge_energy_wh': 0.0010774398688226938,\n",
    " 'discharge_energy_wh': 3.424877048630037e-11,\n",
    " 'internal_resistance_ohm': 0.0,\n",
    " 'dvdt_vbys': 0.0,\n",
    " 'acr_ohm': 0.0,\n",
    " 'aci_ohm': 0.0,\n",
    " 'aci_phase_degrees': 0.0,\n",
    " 'aux_voltage_count': 0,\n",
    " 'aux_temperature_count': 0,\n",
    " 'aux_pressure_count': 0,\n",
    " 'aux_external_count': 0,\n",
    " 'aux_flow_count': 0,\n",
    " 'aux_ao_count': 0,\n",
    " 'aux_di_count': 0,\n",
    " 'aux_do_count': 0,\n",
    " 'aux_humidity_count': 0,\n",
    " 'aux_safety_count': 0,\n",
    " 'aux_ph_count': 0,\n",
    " 'aux_density_count': 0,\n",
    " 'bms_count': 0,\n",
    " 'smb_count': 0,\n",
    " 'aux_voltage': [],\n",
    " 'aux_voltage_dt': [],\n",
    " 'aux_temperature': [],\n",
    " 'aux_temperature_dt': [],\n",
    " 'aux_pressure': [],\n",
    " 'aux_pressure_dt': [],\n",
    " 'aux_external': [],\n",
    " 'aux_external_dt': [],\n",
    " 'aux_flow': [],\n",
    " 'aux_flow_dt': [],\n",
    " 'aux_ao': [],\n",
    " 'aux_ao_dt': [],\n",
    " 'aux_di': [],\n",
    " 'aux_di_dt': [],\n",
    " 'aux_do': [],\n",
    " 'aux_do_dt': [],\n",
    " 'aux_humidity': [],\n",
    " 'aux_humidity_dt': [],\n",
    " 'aux_safety': [],\n",
    " 'aux_safety_dt': [],\n",
    " 'aux_ph': [],\n",
    " 'aux_ph_dt': [],\n",
    " 'aux_density': [],\n",
    " 'aux_density_dt': []}\n",
    "\"\"\"\n",
    "\n",
    "channel_status = cycler_interface.read_channel_status(channel=8)"
   ]
  },
  {
   "cell_type": "code",
   "execution_count": 4,
   "metadata": {},
   "outputs": [
    {
     "name": "stdout",
     "output_type": "stream",
     "text": [
      "Channel #5: C20_0723_Ccyc49_0_3, Charge, 3.19mAh, 2.95V, 0.30mA\n"
     ]
    }
   ],
   "source": [
    "\n",
    "for channel_num in range(1, 8):\n",
    "    channel_status = cycler_interface.read_channel_status(channel=channel_num)\n",
    "    if channel_status['status'] in ('Idle', 'Finished'):\n",
    "        continue\n",
    "    print('Channel #{}: {}, {}, {:.2f}mAh, {:.2f}V, {:.2f}mA'.format(channel_num, channel_status['testname'], channel_status['status'], channel_status['charge_capacity_ah'] * 1000.0, channel_status['voltage_v'], channel_status['current_a'] * 1000.0))"
   ]
  },
  {
   "cell_type": "code",
   "execution_count": 7,
   "metadata": {},
   "outputs": [
    {
     "name": "stdout",
     "output_type": "stream",
     "text": [
      "channel_status,channel_num_1based=5,schedule=schedule_0718_c_0_3ma+TestObject_5.sdx,status=Charge,testname=C20_0723_Ccyc49_0_3 charge_capacity_ah=0.00321684661321342,charge_energy_wh=0.00973273441195488,current_a=0.0002982020378112793,discharge_capacity_ah=0,discharge_energy_wh=0,power_w=0.0008790387073531747,step_time_s=38894.2421,test_time_s=38894.2421,voltage_v=2.947795867919922\n",
      "channel_status,channel_num_1based=7,schedule=jway_test+TestObject_5.sdx,status=Charge,testname=3 charge_capacity_ah=0.00011089118925156072,charge_energy_wh=0.0003303184930700809,current_a=0.009994149208068848,discharge_capacity_ah=0,discharge_energy_wh=0,power_w=0.03120306134223938,step_time_s=39.9378,test_time_s=39.9378,voltage_v=3.1221327781677246\n",
      "channel_status,channel_num_1based=5,schedule=schedule_0718_c_0_3ma+TestObject_5.sdx,status=Charge,testname=C20_0723_Ccyc49_0_3 charge_capacity_ah=0.0032173432409763336,charge_energy_wh=0.009734198451042175,current_a=0.00029861927032470703,discharge_capacity_ah=0,discharge_energy_wh=0,power_w=0.0008802917436696589,step_time_s=38900.2428,test_time_s=38900.2428,voltage_v=2.947873115539551\n",
      "channel_status,channel_num_1based=7,schedule=jway_test+TestObject_5.sdx,status=Charge,testname=3 charge_capacity_ah=0.00012755180068779737,charge_energy_wh=0.0003825293679255992,current_a=0.009995460510253906,discharge_capacity_ah=0,discharge_energy_wh=0,power_w=0.03152953088283539,step_time_s=46.5521,test_time_s=46.5521,voltage_v=3.1543850898742676\n",
      "channel_status,channel_num_1based=5,schedule=schedule_0718_c_0_3ma+TestObject_5.sdx,status=Charge,testname=C20_0723_Ccyc49_0_3 charge_capacity_ah=0.0032178398687392473,charge_energy_wh=0.00973566249012947,current_a=0.00029772520065307617,discharge_capacity_ah=0,discharge_energy_wh=0,power_w=0.0008776828180998564,step_time_s=38906.2434,test_time_s=38906.2434,voltage_v=2.947962760925293\n",
      "channel_status,channel_num_1based=5,schedule=schedule_0718_c_0_3ma+TestObject_5.sdx,status=Charge,testname=C20_0723_Ccyc49_0_3 charge_capacity_ah=0.003218337194994092,charge_energy_wh=0.009737128391861916,current_a=0.000296175479888916,discharge_capacity_ah=0,discharge_energy_wh=0,power_w=0.0008731278358027339,step_time_s=38912.2442,test_time_s=38912.2442,voltage_v=2.9480085372924805\n"
     ]
    }
   ],
   "source": [
    "import os\n",
    "import time\n",
    "\n",
    "from dotenv import load_dotenv\n",
    "load_dotenv()\n",
    "\n",
    "from influxdb_client_3 import InfluxDBClient3, Point\n",
    "\n",
    "token = os.environ.get(\"INFLUXDB_TOKEN\")\n",
    "org = \"Eng\"\n",
    "host = \"https://us-east-1-1.aws.cloud2.influxdata.com\"\n",
    "\n",
    "client = InfluxDBClient3(host=host, token=token, org=org)\n",
    "\n",
    "database=\"arbin-cycler\"\n",
    "\n",
    "tag_names = ['status', 'schedule', 'testname']\n",
    "field_names = ['test_time_s', 'step_time_s', 'voltage_v', 'current_a', 'power_w', 'charge_capacity_ah', 'discharge_capacity_ah', 'charge_energy_wh', 'discharge_energy_wh']\n",
    "\n",
    "while True:\n",
    "    for channel_num in range(1, 8):\n",
    "        channel_status = cycler_interface.read_channel_status(channel=channel_num)\n",
    "        if channel_status['status'] in ('Idle', 'Finished'):\n",
    "            continue\n",
    "        point = Point(\"channel_status\").tag(\"channel_num_1based\", channel_num)\n",
    "        for tag_name in tag_names:\n",
    "            point = point.tag(tag_name, channel_status[tag_name])\n",
    "        for field_name in field_names:\n",
    "            point = point.field(field_name, channel_status[field_name])\n",
    "        client.write(database=database, record=point)\n",
    "        print(point)\n",
    "    time.sleep(5)"
   ]
  }
 ],
 "metadata": {
  "kernelspec": {
   "display_name": "Python 3 (ipykernel)",
   "language": "python",
   "name": "python3"
  },
  "language_info": {
   "codemirror_mode": {
    "name": "ipython",
    "version": 3
   },
   "file_extension": ".py",
   "mimetype": "text/x-python",
   "name": "python",
   "nbconvert_exporter": "python",
   "pygments_lexer": "ipython3",
   "version": "3.8.19"
  }
 },
 "nbformat": 4,
 "nbformat_minor": 4
}
