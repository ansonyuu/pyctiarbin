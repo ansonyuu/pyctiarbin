{
 "cells": [
  {
   "cell_type": "code",
   "execution_count": 2,
   "metadata": {},
   "outputs": [
    {
     "data": {
      "text/plain": [
       "12"
      ]
     },
     "execution_count": 2,
     "metadata": {},
     "output_type": "execute_result"
    }
   ],
   "source": [
    "5 + 7"
   ]
  },
  {
   "cell_type": "code",
   "execution_count": 3,
   "metadata": {},
   "outputs": [],
   "source": [
    "from pyctiarbin.arbinspoofer import ArbinSpoofer\n",
    "\n",
    "SPOOFER_CONFIG_DICT = {\n",
    "    \"ip\": \"127.0.0.1\",\n",
    "    \"port\": 9031,\n",
    "    \"num_channels\": 8\n",
    "}\n",
    "# arbin_spoofer = ArbinSpoofer(SPOOFER_CONFIG_DICT)\n",
    "# arbin_spoofer.start()"
   ]
  },
  {
   "attachments": {},
   "cell_type": "markdown",
   "metadata": {},
   "source": [
    "Wunderbar! Now let's start with creating a `CyclerInterface` class instance. Like the `ArbinSpoofer`, a class instance of `CyclerInterface`:"
   ]
  },
  {
   "cell_type": "code",
   "execution_count": 4,
   "metadata": {},
   "outputs": [],
   "source": [
    "from pyctiarbin import CyclerInterface\n",
    "\n",
    "CYCLER_INTERFACE_CONFIG = {\n",
    "    \"ip_address\": SPOOFER_CONFIG_DICT['ip'],\n",
    "    \"port\": SPOOFER_CONFIG_DICT['port'],\n",
    "    \"timeout_s\": 3,\n",
    "    \"msg_buffer_size\": 4096\n",
    "}\n",
    "\n",
    "cycler_interface = CyclerInterface(CYCLER_INTERFACE_CONFIG)"
   ]
  },
  {
   "attachments": {},
   "cell_type": "markdown",
   "metadata": {},
   "source": [
    "Welcome to the `pycti-arbin` demo! Here we will walk through the basic functionality of the module. \n",
    "\n",
    "----\n",
    "\n",
    " Before we can talk to a Arbin cycler we must have a Arbin cycler to talk to. Testing software functionality on a real cycler is dangerous so we've created a submodule `arbinspoofer` to emulate some of the behavior of the Arbin software. Note that if you want this demo to work with your Arbin cycler you will need to set the correct IP and port."
   ]
  },
  {
   "attachments": {},
   "cell_type": "markdown",
   "metadata": {},
   "source": [
    "Wunderbar! Now let's start with creating a `CyclerInterface` class instance. Like the `ArbinSpoofer`, a class instance of `CyclerInterface`:"
   ]
  },
  {
   "attachments": {},
   "cell_type": "markdown",
   "metadata": {},
   "source": [
    "With a `CyclerInterface` we can read the status of any channel on the cycler:"
   ]
  },
  {
   "cell_type": "code",
   "execution_count": 9,
   "metadata": {},
   "outputs": [
    {
     "data": {
      "text/plain": [
       "{'header': 1287429013477645789,\n",
       " 'msg_length': 1779,\n",
       " 'command_code': 4005167107,\n",
       " 'extended_command_code': 0,\n",
       " 'number_of_channels': 1,\n",
       " 'channel': 7,\n",
       " 'status': 'Charge',\n",
       " 'comm_failure': 0,\n",
       " 'schedule': 'schedule_0720_c_0_05ma+TestObject_5.sdx',\n",
       " 'testname': 'C22_0723_Ccyc5_0_05',\n",
       " 'exit_condition': 'N/A',\n",
       " 'step_and_cycle_format': '[1] 1: Step_C, Current(A)',\n",
       " 'barcode': '',\n",
       " 'can_config_name': '',\n",
       " 'smb_config_name': '',\n",
       " 'master_channel': 7,\n",
       " 'test_time_s': 13537.0358,\n",
       " 'step_time_s': 13537.0358,\n",
       " 'voltage_v': 2.7059664726257324,\n",
       " 'current_a': 5.0961971282958984e-05,\n",
       " 'power_w': 0.00013790138473268598,\n",
       " 'charge_capacity_ah': 0.00019165615958627313,\n",
       " 'discharge_capacity_ah': 4.073645240576518e-11,\n",
       " 'charge_energy_wh': 0.0004543567483779043,\n",
       " 'discharge_energy_wh': 3.424877048630037e-11,\n",
       " 'internal_resistance_ohm': 0.0,\n",
       " 'dvdt_vbys': 0.0,\n",
       " 'acr_ohm': 0.0,\n",
       " 'aci_ohm': 0.0,\n",
       " 'aci_phase_degrees': 0.0,\n",
       " 'aux_voltage_count': 0,\n",
       " 'aux_temperature_count': 0,\n",
       " 'aux_pressure_count': 0,\n",
       " 'aux_external_count': 0,\n",
       " 'aux_flow_count': 0,\n",
       " 'aux_ao_count': 0,\n",
       " 'aux_di_count': 0,\n",
       " 'aux_do_count': 0,\n",
       " 'aux_humidity_count': 0,\n",
       " 'aux_safety_count': 0,\n",
       " 'aux_ph_count': 0,\n",
       " 'aux_density_count': 0,\n",
       " 'bms_count': 0,\n",
       " 'smb_count': 0,\n",
       " 'aux_voltage': [],\n",
       " 'aux_voltage_dt': [],\n",
       " 'aux_temperature': [],\n",
       " 'aux_temperature_dt': [],\n",
       " 'aux_pressure': [],\n",
       " 'aux_pressure_dt': [],\n",
       " 'aux_external': [],\n",
       " 'aux_external_dt': [],\n",
       " 'aux_flow': [],\n",
       " 'aux_flow_dt': [],\n",
       " 'aux_ao': [],\n",
       " 'aux_ao_dt': [],\n",
       " 'aux_di': [],\n",
       " 'aux_di_dt': [],\n",
       " 'aux_do': [],\n",
       " 'aux_do_dt': [],\n",
       " 'aux_humidity': [],\n",
       " 'aux_humidity_dt': [],\n",
       " 'aux_safety': [],\n",
       " 'aux_safety_dt': [],\n",
       " 'aux_ph': [],\n",
       " 'aux_ph_dt': [],\n",
       " 'aux_density': [],\n",
       " 'aux_density_dt': []}"
      ]
     },
     "execution_count": 9,
     "metadata": {},
     "output_type": "execute_result"
    }
   ],
   "source": [
    "cycler_interface.read_channel_status(channel=8)"
   ]
  },
  {
   "attachments": {},
   "cell_type": "markdown",
   "metadata": {},
   "source": [
    "The `CyclerInterface` class only allows for read operations with the cycler. To do more interesting we need a `ChannelInterface`:"
   ]
  },
  {
   "cell_type": "code",
   "execution_count": 7,
   "metadata": {},
   "outputs": [],
   "source": [
    "from pyctiarbin import ChannelInterface\n",
    "\n",
    "CHANNEL_INTERFACE_CONFIG = {\n",
    "  \"channel\": 1,\n",
    "  \"test_name\": \"fake_test_name\",\n",
    "  \"schedule_name\": \"Rest+207855.sdx\",\n",
    "  \"ip_address\": SPOOFER_CONFIG_DICT['ip'],\n",
    "  \"port\": SPOOFER_CONFIG_DICT['port'],\n",
    "  \"timeout_s\": 3,\n",
    "  \"msg_buffer_size\": 4096\n",
    "}\n",
    "channel_interface = ChannelInterface(CHANNEL_INTERFACE_CONFIG)"
   ]
  },
  {
   "attachments": {},
   "cell_type": "markdown",
   "metadata": {},
   "source": [
    "We do not need to specify a channel when reading channel status with a `ChannelInterface` since it is already specified in the config:"
   ]
  },
  {
   "cell_type": "code",
   "execution_count": 8,
   "metadata": {},
   "outputs": [
    {
     "data": {
      "text/plain": [
       "{'header': 1287429013477645789,\n",
       " 'msg_length': 1779,\n",
       " 'command_code': 4005167107,\n",
       " 'extended_command_code': 0,\n",
       " 'number_of_channels': 1,\n",
       " 'channel': 0,\n",
       " 'status': 'Idle',\n",
       " 'comm_failure': 0,\n",
       " 'schedule': 'fake_schedule',\n",
       " 'testname': 'fake_testname',\n",
       " 'exit_condition': 'none',\n",
       " 'step_and_cycle_format': 'none',\n",
       " 'barcode': 'none',\n",
       " 'can_config_name': 'none',\n",
       " 'smb_config_name': 'none',\n",
       " 'master_channel': 0,\n",
       " 'test_time_s': 0.0,\n",
       " 'step_time_s': 0.0,\n",
       " 'voltage_v': 0.0,\n",
       " 'current_a': 0.0,\n",
       " 'power_w': 0.0,\n",
       " 'charge_capacity_ah': 0.0,\n",
       " 'discharge_capacity_ah': 0.0,\n",
       " 'charge_energy_wh': 0.0,\n",
       " 'discharge_energy_wh': 0.0,\n",
       " 'internal_resistance_ohm': 0.0,\n",
       " 'dvdt_vbys': 0.0,\n",
       " 'acr_ohm': 0.0,\n",
       " 'aci_ohm': 0.0,\n",
       " 'aci_phase_degrees': 0.0,\n",
       " 'aux_voltage_count': 0,\n",
       " 'aux_temperature_count': 0,\n",
       " 'aux_pressure_count': 0,\n",
       " 'aux_external_count': 0,\n",
       " 'aux_flow_count': 0,\n",
       " 'aux_ao_count': 0,\n",
       " 'aux_di_count': 0,\n",
       " 'aux_do_count': 0,\n",
       " 'aux_humidity_count': 0,\n",
       " 'aux_safety_count': 0,\n",
       " 'aux_ph_count': 0,\n",
       " 'aux_density_count': 0,\n",
       " 'bms_count': 0,\n",
       " 'smb_count': 0,\n",
       " 'aux_voltage': [],\n",
       " 'aux_voltage_dt': [],\n",
       " 'aux_temperature': [],\n",
       " 'aux_temperature_dt': [],\n",
       " 'aux_pressure': [],\n",
       " 'aux_pressure_dt': [],\n",
       " 'aux_external': [],\n",
       " 'aux_external_dt': [],\n",
       " 'aux_flow': [],\n",
       " 'aux_flow_dt': [],\n",
       " 'aux_ao': [],\n",
       " 'aux_ao_dt': [],\n",
       " 'aux_di': [],\n",
       " 'aux_di_dt': [],\n",
       " 'aux_do': [],\n",
       " 'aux_do_dt': [],\n",
       " 'aux_humidity': [],\n",
       " 'aux_humidity_dt': [],\n",
       " 'aux_safety': [],\n",
       " 'aux_safety_dt': [],\n",
       " 'aux_ph': [],\n",
       " 'aux_ph_dt': [],\n",
       " 'aux_density': [],\n",
       " 'aux_density_dt': []}"
      ]
     },
     "execution_count": 8,
     "metadata": {},
     "output_type": "execute_result"
    }
   ],
   "source": [
    "channel_interface.read_channel_status()"
   ]
  },
  {
   "attachments": {},
   "cell_type": "markdown",
   "metadata": {},
   "source": [
    "We can also do things like assign a schedule to a channel. This method assigns the schedule to the channel defined in the config:"
   ]
  },
  {
   "cell_type": "code",
   "execution_count": 9,
   "metadata": {},
   "outputs": [
    {
     "data": {
      "text/plain": [
       "True"
      ]
     },
     "execution_count": 9,
     "metadata": {},
     "output_type": "execute_result"
    }
   ],
   "source": [
    "channel_interface.assign_schedule()"
   ]
  },
  {
   "attachments": {},
   "cell_type": "markdown",
   "metadata": {},
   "source": [
    "We can also start tests with the test name and schedule defined in the config:"
   ]
  },
  {
   "cell_type": "code",
   "execution_count": 10,
   "metadata": {},
   "outputs": [
    {
     "data": {
      "text/plain": [
       "True"
      ]
     },
     "execution_count": 10,
     "metadata": {},
     "output_type": "execute_result"
    }
   ],
   "source": [
    "channel_interface.start_test()"
   ]
  },
  {
   "attachments": {},
   "cell_type": "markdown",
   "metadata": {},
   "source": [
    "For running tests we can set the test meta-variable vales:"
   ]
  },
  {
   "cell_type": "code",
   "execution_count": 11,
   "metadata": {},
   "outputs": [
    {
     "data": {
      "text/plain": [
       "True"
      ]
     },
     "execution_count": 11,
     "metadata": {},
     "output_type": "execute_result"
    }
   ],
   "source": [
    "channel_interface.set_meta_variable(mv_num = 1, mv_value=3.200)"
   ]
  },
  {
   "attachments": {},
   "cell_type": "markdown",
   "metadata": {},
   "source": [
    "And we can also stop the test:"
   ]
  },
  {
   "cell_type": "code",
   "execution_count": 13,
   "metadata": {},
   "outputs": [
    {
     "data": {
      "text/plain": [
       "True"
      ]
     },
     "execution_count": 13,
     "metadata": {},
     "output_type": "execute_result"
    }
   ],
   "source": [
    "channel_interface.stop_test()"
   ]
  },
  {
   "cell_type": "code",
   "execution_count": 12,
   "metadata": {},
   "outputs": [
    {
     "data": {
      "text/plain": [
       "{'header': 1287429013477645789,\n",
       " 'msg_length': 1779,\n",
       " 'command_code': 4005167107,\n",
       " 'extended_command_code': 0,\n",
       " 'number_of_channels': 1,\n",
       " 'channel': 7,\n",
       " 'status': 'Charge',\n",
       " 'comm_failure': 0,\n",
       " 'schedule': 'schedule_0720_c_0_05ma+TestObject_5.sdx',\n",
       " 'testname': 'C22_0723_Ccyc5_0_05',\n",
       " 'exit_condition': 'N/A',\n",
       " 'step_and_cycle_format': '[1] 1: Step_C, Current(A)',\n",
       " 'barcode': '',\n",
       " 'can_config_name': '',\n",
       " 'smb_config_name': '',\n",
       " 'master_channel': 7,\n",
       " 'test_time_s': 28361.393,\n",
       " 'step_time_s': 28361.393,\n",
       " 'voltage_v': 3.1838936805725098,\n",
       " 'current_a': 5.036592483520508e-05,\n",
       " 'power_w': 0.0001603597484063357,\n",
       " 'charge_capacity_ah': 0.00040218798676505685,\n",
       " 'discharge_capacity_ah': 4.073645240576518e-11,\n",
       " 'charge_energy_wh': 0.0010774398688226938,\n",
       " 'discharge_energy_wh': 3.424877048630037e-11,\n",
       " 'internal_resistance_ohm': 0.0,\n",
       " 'dvdt_vbys': 0.0,\n",
       " 'acr_ohm': 0.0,\n",
       " 'aci_ohm': 0.0,\n",
       " 'aci_phase_degrees': 0.0,\n",
       " 'aux_voltage_count': 0,\n",
       " 'aux_temperature_count': 0,\n",
       " 'aux_pressure_count': 0,\n",
       " 'aux_external_count': 0,\n",
       " 'aux_flow_count': 0,\n",
       " 'aux_ao_count': 0,\n",
       " 'aux_di_count': 0,\n",
       " 'aux_do_count': 0,\n",
       " 'aux_humidity_count': 0,\n",
       " 'aux_safety_count': 0,\n",
       " 'aux_ph_count': 0,\n",
       " 'aux_density_count': 0,\n",
       " 'bms_count': 0,\n",
       " 'smb_count': 0,\n",
       " 'aux_voltage': [],\n",
       " 'aux_voltage_dt': [],\n",
       " 'aux_temperature': [],\n",
       " 'aux_temperature_dt': [],\n",
       " 'aux_pressure': [],\n",
       " 'aux_pressure_dt': [],\n",
       " 'aux_external': [],\n",
       " 'aux_external_dt': [],\n",
       " 'aux_flow': [],\n",
       " 'aux_flow_dt': [],\n",
       " 'aux_ao': [],\n",
       " 'aux_ao_dt': [],\n",
       " 'aux_di': [],\n",
       " 'aux_di_dt': [],\n",
       " 'aux_do': [],\n",
       " 'aux_do_dt': [],\n",
       " 'aux_humidity': [],\n",
       " 'aux_humidity_dt': [],\n",
       " 'aux_safety': [],\n",
       " 'aux_safety_dt': [],\n",
       " 'aux_ph': [],\n",
       " 'aux_ph_dt': [],\n",
       " 'aux_density': [],\n",
       " 'aux_density_dt': []}"
      ]
     },
     "execution_count": 12,
     "metadata": {},
     "output_type": "execute_result"
    }
   ],
   "source": [
    "from pyctiarbin import CyclerInterface\n",
    "\n",
    "CYCLER_INTERFACE_CONFIG = {\n",
    "    \"ip_address\": \"127.0.0.1\",\n",
    "    \"port\": 9031,\n",
    "    \"timeout_s\": 3,\n",
    "    \"msg_buffer_size\": 4096\n",
    "}\n",
    "\n",
    "cycler_interface = CyclerInterface(CYCLER_INTERFACE_CONFIG)\n",
    "\n",
    "# Example channel data\n",
    "\"\"\"\n",
    "{'header': 1287429013477645789,\n",
    " 'msg_length': 1779,\n",
    " 'command_code': 4005167107,\n",
    " 'extended_command_code': 0,\n",
    " 'number_of_channels': 1,\n",
    " 'channel': 7,\n",
    " 'status': 'Charge',\n",
    " 'comm_failure': 0,\n",
    " 'schedule': 'schedule_0720_c_0_05ma+TestObject_5.sdx',\n",
    " 'testname': 'C22_0723_Ccyc5_0_05',\n",
    " 'exit_condition': 'N/A',\n",
    " 'step_and_cycle_format': '[1] 1: Step_C, Current(A)',\n",
    " 'barcode': '',\n",
    " 'can_config_name': '',\n",
    " 'smb_config_name': '',\n",
    " 'master_channel': 7,\n",
    " 'test_time_s': 28361.393,\n",
    " 'step_time_s': 28361.393,\n",
    " 'voltage_v': 3.1838936805725098,\n",
    " 'current_a': 5.036592483520508e-05,\n",
    " 'power_w': 0.0001603597484063357,\n",
    " 'charge_capacity_ah': 0.00040218798676505685,\n",
    " 'discharge_capacity_ah': 4.073645240576518e-11,\n",
    " 'charge_energy_wh': 0.0010774398688226938,\n",
    " 'discharge_energy_wh': 3.424877048630037e-11,\n",
    " 'internal_resistance_ohm': 0.0,\n",
    " 'dvdt_vbys': 0.0,\n",
    " 'acr_ohm': 0.0,\n",
    " 'aci_ohm': 0.0,\n",
    " 'aci_phase_degrees': 0.0,\n",
    " 'aux_voltage_count': 0,\n",
    " 'aux_temperature_count': 0,\n",
    " 'aux_pressure_count': 0,\n",
    " 'aux_external_count': 0,\n",
    " 'aux_flow_count': 0,\n",
    " 'aux_ao_count': 0,\n",
    " 'aux_di_count': 0,\n",
    " 'aux_do_count': 0,\n",
    " 'aux_humidity_count': 0,\n",
    " 'aux_safety_count': 0,\n",
    " 'aux_ph_count': 0,\n",
    " 'aux_density_count': 0,\n",
    " 'bms_count': 0,\n",
    " 'smb_count': 0,\n",
    " 'aux_voltage': [],\n",
    " 'aux_voltage_dt': [],\n",
    " 'aux_temperature': [],\n",
    " 'aux_temperature_dt': [],\n",
    " 'aux_pressure': [],\n",
    " 'aux_pressure_dt': [],\n",
    " 'aux_external': [],\n",
    " 'aux_external_dt': [],\n",
    " 'aux_flow': [],\n",
    " 'aux_flow_dt': [],\n",
    " 'aux_ao': [],\n",
    " 'aux_ao_dt': [],\n",
    " 'aux_di': [],\n",
    " 'aux_di_dt': [],\n",
    " 'aux_do': [],\n",
    " 'aux_do_dt': [],\n",
    " 'aux_humidity': [],\n",
    " 'aux_humidity_dt': [],\n",
    " 'aux_safety': [],\n",
    " 'aux_safety_dt': [],\n",
    " 'aux_ph': [],\n",
    " 'aux_ph_dt': [],\n",
    " 'aux_density': [],\n",
    " 'aux_density_dt': []}\n",
    "\"\"\"\n",
    "\n",
    "channel_status = cycler_interface.read_channel_status(channel=8)"
   ]
  },
  {
   "cell_type": "code",
   "execution_count": 26,
   "metadata": {},
   "outputs": [
    {
     "name": "stdout",
     "output_type": "stream",
     "text": [
      "Channel #1: C23_0723_C2cyc10_001, Finished, 0.03mAh, 0.71V, 0.00mA\n",
      "Channel #5: C20_0723_Ccyc49_0_3, Charge, 1.38mAh, 3.08V, 0.30mA\n",
      "Channel #6: C25_0723_Ccyc7_0_03, Charge, 1.32mAh, 3.16V, 0.29mA\n"
     ]
    }
   ],
   "source": [
    "\n",
    "for channel_num in range(1, 8):\n",
    "    channel_status = cycler_interface.read_channel_status(channel=channel_num)\n",
    "    if channel_status['status'] != 'Idle':\n",
    "        print('Channel #{}: {}, {}, {:.2f}mAh, {:.2f}V, {:.2f}mA'.format(channel_num, channel_status['testname'], channel_status['status'], channel_status['charge_capacity_ah'] * 1000.0, channel_status['voltage_v'], channel_status['current_a'] * 1000.0))"
   ]
  },
  {
   "cell_type": "code",
   "execution_count": 8,
   "metadata": {},
   "outputs": [
    {
     "data": {
      "text/plain": [
       "environ{'ALLUSERSPROFILE': 'C:\\\\ProgramData',\n",
       "        'APPDATA': 'C:\\\\Users\\\\Arbin\\\\AppData\\\\Roaming',\n",
       "        'ARBIN_CTI_PASSWORD': 'tennis',\n",
       "        'ARBIN_CTI_USERNAME': 'green',\n",
       "        'CHROME_CRASHPAD_PIPE_NAME': '\\\\\\\\.\\\\pipe\\\\crashpad_11828_OJLDSKWEOHPLWRYR',\n",
       "        'COLORTERM': 'truecolor',\n",
       "        'COMMONPROGRAMFILES': 'C:\\\\Program Files\\\\Common Files',\n",
       "        'COMMONPROGRAMFILES(X86)': 'C:\\\\Program Files (x86)\\\\Common Files',\n",
       "        'COMMONPROGRAMW6432': 'C:\\\\Program Files\\\\Common Files',\n",
       "        'COMPUTERNAME': 'ARBIN-PRODUCT',\n",
       "        'COMSPEC': 'C:\\\\Windows\\\\system32\\\\cmd.exe',\n",
       "        'DRIVERDATA': 'C:\\\\Windows\\\\System32\\\\Drivers\\\\DriverData',\n",
       "        'FPS_BROWSER_APP_PROFILE_STRING': 'Internet Explorer',\n",
       "        'FPS_BROWSER_USER_PROFILE_STRING': 'Default',\n",
       "        'GIT_ASKPASS': 'c:\\\\Users\\\\Arbin\\\\AppData\\\\Local\\\\Programs\\\\Microsoft VS Code\\\\resources\\\\app\\\\extensions\\\\git\\\\dist\\\\askpass.sh',\n",
       "        'HOMEDRIVE': 'C:',\n",
       "        'HOMEPATH': '\\\\Users\\\\Arbin',\n",
       "        'IGCCSVC_DB': 'AQAAANCMnd8BFdERjHoAwE/Cl+sBAAAAG0WIb0NoJUSmAwBQL4E+rgQAAAACAAAAAAAQZgAAAAEAACAAAAAmdw5tBLHbzo5C9aY5XIpNO+0llonYH3NFBakOQ5p36AAAAAAOgAAAAAIAACAAAAAgVn2AE2McpZeI5Rdt1f2yBVRss/MzfteLHPE33FemcmAAAADvSMytpX7T9QmrdfZqy5gHd4wMcSNZ5CGc7ax9UyV5fa1RlU7FiAdlI9yDO/Y8lI7NUKaKy/FhmVyWDPC+eS0b+/4yLj4OM3lP2pdNfZDKH+qEuNdq+kA8ShamYTUd+jtAAAAAfg6DtQ5nUYc5PO2zpQXZ7f2TIRr/mCYthuSvHoVNJwIWR2/F1ix2Jdj2g4aQ0NDK632q91BrZzuxt0PSFqe/qg==',\n",
       "        'LANG': 'en_US.UTF-8',\n",
       "        'LOCALAPPDATA': 'C:\\\\Users\\\\Arbin\\\\AppData\\\\Local',\n",
       "        'LOGONSERVER': '\\\\\\\\ARBIN-PRODUCT',\n",
       "        'NUMBER_OF_PROCESSORS': '20',\n",
       "        'ONEDRIVE': 'C:\\\\Users\\\\Arbin\\\\OneDrive',\n",
       "        'ORIGINAL_XDG_CURRENT_DESKTOP': 'undefined',\n",
       "        'OS': 'Windows_NT',\n",
       "        'PATH': 'C:\\\\Users\\\\Arbin\\\\pyctiarbin\\\\.venv\\\\Scripts;c:\\\\Users\\\\Arbin\\\\.vscode\\\\extensions\\\\ms-python.python-2024.10.0-win32-x64\\\\python_files\\\\deactivate\\\\powershell;C:\\\\Users\\\\Arbin\\\\pyctiarbin\\\\.venv/Scripts;c:\\\\Users\\\\Arbin\\\\.vscode\\\\extensions\\\\ms-python.python-2024.10.0-win32-x64\\\\python_files\\\\deactivate\\\\powershell;C:\\\\Users\\\\Arbin\\\\pyctiarbin\\\\.venv/Scripts;C:\\\\Windows\\\\system32;C:\\\\Windows;C:\\\\Windows\\\\System32\\\\Wbem;C:\\\\Windows\\\\System32\\\\WindowsPowerShell\\\\v1.0\\\\;C:\\\\Windows\\\\System32\\\\OpenSSH\\\\;C:\\\\Program Files\\\\dotnet\\\\;c:\\\\Program Files (x86)\\\\Microsoft SQL Server\\\\100\\\\Tools\\\\Binn\\\\;c:\\\\Program Files\\\\Microsoft SQL Server\\\\100\\\\Tools\\\\Binn\\\\;c:\\\\Program Files\\\\Microsoft SQL Server\\\\100\\\\DTS\\\\Binn\\\\;c:\\\\Program Files (x86)\\\\Microsoft SQL Server\\\\100\\\\Tools\\\\Binn\\\\VSShell\\\\Common7\\\\IDE\\\\;c:\\\\Program Files (x86)\\\\Microsoft SQL Server\\\\100\\\\DTS\\\\Binn\\\\;C:\\\\Program Files (x86)\\\\SKTOOL7.1\\\\Marco\\\\HMI3352\\\\bin;C:\\\\Program Files (x86)\\\\SKTOOL7.1\\\\Marco\\\\X86\\\\bin;C:\\\\Program Files\\\\Git\\\\cmd;C:\\\\Users\\\\Arbin\\\\.rye\\\\shims;C:\\\\Users\\\\Arbin\\\\AppData\\\\Local\\\\Microsoft\\\\WindowsApps;C:\\\\Users\\\\Arbin\\\\AppData\\\\Local\\\\Programs\\\\Microsoft VS Code\\\\bin',\n",
       "        'PATHEXT': '.COM;.EXE;.BAT;.CMD;.VBS;.VBE;.JS;.JSE;.WSF;.WSH;.MSC;.CPL',\n",
       "        'PROCESSOR_ARCHITECTURE': 'AMD64',\n",
       "        'PROCESSOR_IDENTIFIER': 'Intel64 Family 6 Model 151 Stepping 2, GenuineIntel',\n",
       "        'PROCESSOR_LEVEL': '6',\n",
       "        'PROCESSOR_REVISION': '9702',\n",
       "        'PROGRAMDATA': 'C:\\\\ProgramData',\n",
       "        'PROGRAMFILES': 'C:\\\\Program Files',\n",
       "        'PROGRAMFILES(X86)': 'C:\\\\Program Files (x86)',\n",
       "        'PROGRAMW6432': 'C:\\\\Program Files',\n",
       "        'PSMODULEPATH': 'C:\\\\Users\\\\Arbin\\\\Documents\\\\WindowsPowerShell\\\\Modules;C:\\\\Program Files\\\\WindowsPowerShell\\\\Modules;C:\\\\Windows\\\\system32\\\\WindowsPowerShell\\\\v1.0\\\\Modules',\n",
       "        'PUBLIC': 'C:\\\\Users\\\\Public',\n",
       "        'SESSIONNAME': 'Console',\n",
       "        'SYSTEMDRIVE': 'C:',\n",
       "        'SYSTEMROOT': 'C:\\\\Windows',\n",
       "        'TEMP': 'C:\\\\Users\\\\Arbin\\\\AppData\\\\Local\\\\Temp',\n",
       "        'TERM_PROGRAM': 'vscode',\n",
       "        'TERM_PROGRAM_VERSION': '1.91.1',\n",
       "        'TMP': 'C:\\\\Users\\\\Arbin\\\\AppData\\\\Local\\\\Temp',\n",
       "        'USERDOMAIN': 'ARBIN-PRODUCT',\n",
       "        'USERDOMAIN_ROAMINGPROFILE': 'ARBIN-PRODUCT',\n",
       "        'USERNAME': 'Arbin',\n",
       "        'USERPROFILE': 'C:\\\\Users\\\\Arbin',\n",
       "        'VIRTUAL_ENV': 'C:\\\\Users\\\\Arbin\\\\pyctiarbin\\\\.venv',\n",
       "        'VIRTUAL_ENV_PROMPT': 'pyctiarbin',\n",
       "        'VSCODE_GIT_ASKPASS_EXTRA_ARGS': '',\n",
       "        'VSCODE_GIT_ASKPASS_MAIN': 'c:\\\\Users\\\\Arbin\\\\AppData\\\\Local\\\\Programs\\\\Microsoft VS Code\\\\resources\\\\app\\\\extensions\\\\git\\\\dist\\\\askpass-main.js',\n",
       "        'VSCODE_GIT_ASKPASS_NODE': 'C:\\\\Users\\\\Arbin\\\\AppData\\\\Local\\\\Programs\\\\Microsoft VS Code\\\\Code.exe',\n",
       "        'VSCODE_GIT_IPC_HANDLE': '\\\\\\\\.\\\\pipe\\\\vscode-git-2488ec31ac-sock',\n",
       "        'VSCODE_INJECTION': '1',\n",
       "        'WINDIR': 'C:\\\\Windows',\n",
       "        'ZES_ENABLE_SYSMAN': '1',\n",
       "        'JPY_SESSION_NAME': 'C:\\\\Users\\\\Arbin\\\\pyctiarbin\\\\demo_notebook-484a702c-4c72-4636-96eb-f6388bb78f46.ipynb',\n",
       "        'JPY_INTERRUPT_EVENT': '1556',\n",
       "        'IPY_INTERRUPT_EVENT': '1556',\n",
       "        'JPY_PARENT_PID': '1584',\n",
       "        'PYDEVD_USE_FRAME_EVAL': 'NO',\n",
       "        'TERM': 'xterm-color',\n",
       "        'CLICOLOR': '1',\n",
       "        'FORCE_COLOR': '1',\n",
       "        'CLICOLOR_FORCE': '1',\n",
       "        'PAGER': 'cat',\n",
       "        'GIT_PAGER': 'cat',\n",
       "        'MPLBACKEND': 'module://matplotlib_inline.backend_inline',\n",
       "        'INFLUXDB_TOKEN': 'jULyH2cDBZqnACia_A9hdQUGkBAfgs8g9bCYwJYIiQVhMYtKMSqO2EchqzASXnJTVtHsR1yMbyMce-9vVuxKuQ=='}"
      ]
     },
     "execution_count": 8,
     "metadata": {},
     "output_type": "execute_result"
    }
   ],
   "source": [
    "import os\n",
    "\n",
    "from dotenv import load_dotenv\n",
    "load_dotenv()\n",
    "\n",
    "from influxdb_client_3 import InfluxDBClient3, Point\n",
    "\n",
    "token = os.environ.get(\"INFLUXDB_TOKEN\")\n",
    "org = \"Eng\"\n",
    "host = \"https://us-east-1-1.aws.cloud2.influxdata.com\"\n",
    "\n",
    "client = InfluxDBClient3(host=host, token=token, org=org)\n",
    "\n",
    "database=\"arbin-cycler\"\n",
    "\n",
    "{'header': 1287429013477645789,\n",
    " 'msg_length': 1779,\n",
    " 'command_code': 4005167107,\n",
    " 'extended_command_code': 0,\n",
    " 'number_of_channels': 1,\n",
    " 'channel': 7,\n",
    " 'status': 'Charge',\n",
    " 'comm_failure': 0,\n",
    " 'schedule': 'schedule_0720_c_0_05ma+TestObject_5.sdx',\n",
    " 'testname': 'C22_0723_Ccyc5_0_05',\n",
    " 'exit_condition': 'N/A',\n",
    " 'step_and_cycle_format': '[1] 1: Step_C, Current(A)',\n",
    " 'barcode': '',\n",
    " 'can_config_name': '',\n",
    " 'smb_config_name': '',\n",
    " 'master_channel': 7,\n",
    " 'test_time_s': 28361.393,\n",
    " 'step_time_s': 28361.393,\n",
    " 'voltage_v': 3.1838936805725098,\n",
    " 'current_a': 5.036592483520508e-05,\n",
    " 'power_w': 0.0001603597484063357,\n",
    " 'charge_capacity_ah': 0.00040218798676505685,\n",
    " 'discharge_capacity_ah': 4.073645240576518e-11,\n",
    " 'charge_energy_wh': 0.0010774398688226938,\n",
    " 'discharge_energy_wh': 3.424877048630037e-11,\n",
    " 'internal_resistance_ohm': 0.0,\n",
    "}\n",
    "\n",
    "tags = ['status', 'schedule', 'testname']\n",
    "fields = ['test_time_s', 'step_time_s', 'voltage_v', 'current_a', 'power_w', 'charge_capacity_ah', 'discharge_capacity_ah', 'charge_energy_wh', 'discharge_energy_wh'] 3.424877048630037e-11,\n",
    "\n",
    "\n",
    "print(\"Complete. Return to the InfluxDB UI.\")"
   ]
  }
 ],
 "metadata": {
  "kernelspec": {
   "display_name": "Python 3 (ipykernel)",
   "language": "python",
   "name": "python3"
  },
  "language_info": {
   "codemirror_mode": {
    "name": "ipython",
    "version": 3
   },
   "file_extension": ".py",
   "mimetype": "text/x-python",
   "name": "python",
   "nbconvert_exporter": "python",
   "pygments_lexer": "ipython3",
   "version": "3.8.19"
  }
 },
 "nbformat": 4,
 "nbformat_minor": 4
}
