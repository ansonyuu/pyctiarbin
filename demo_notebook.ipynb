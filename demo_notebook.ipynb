{
 "cells": [
  {
   "cell_type": "code",
   "execution_count": 2,
   "metadata": {},
   "outputs": [
    {
     "data": {
      "text/plain": [
       "12"
      ]
     },
     "execution_count": 2,
     "metadata": {},
     "output_type": "execute_result"
    }
   ],
   "source": [
    "5 + 7"
   ]
  },
  {
   "cell_type": "code",
   "execution_count": 3,
   "metadata": {},
   "outputs": [],
   "source": [
    "from pyctiarbin.arbinspoofer import ArbinSpoofer\n",
    "\n",
    "SPOOFER_CONFIG_DICT = {\n",
    "    \"ip\": \"127.0.0.1\",\n",
    "    \"port\": 9031,\n",
    "    \"num_channels\": 8\n",
    "}\n",
    "# arbin_spoofer = ArbinSpoofer(SPOOFER_CONFIG_DICT)\n",
    "# arbin_spoofer.start()"
   ]
  },
  {
   "attachments": {},
   "cell_type": "markdown",
   "metadata": {},
   "source": [
    "Wunderbar! Now let's start with creating a `CyclerInterface` class instance. Like the `ArbinSpoofer`, a class instance of `CyclerInterface`:"
   ]
  },
  {
   "cell_type": "code",
   "execution_count": 4,
   "metadata": {},
   "outputs": [],
   "source": [
    "from pyctiarbin import CyclerInterface\n",
    "\n",
    "CYCLER_INTERFACE_CONFIG = {\n",
    "    \"ip_address\": SPOOFER_CONFIG_DICT['ip'],\n",
    "    \"port\": SPOOFER_CONFIG_DICT['port'],\n",
    "    \"timeout_s\": 3,\n",
    "    \"msg_buffer_size\": 4096\n",
    "}\n",
    "\n",
    "cycler_interface = CyclerInterface(CYCLER_INTERFACE_CONFIG)"
   ]
  },
  {
   "attachments": {},
   "cell_type": "markdown",
   "metadata": {},
   "source": [
    "Welcome to the `pycti-arbin` demo! Here we will walk through the basic functionality of the module. \n",
    "\n",
    "----\n",
    "\n",
    " Before we can talk to a Arbin cycler we must have a Arbin cycler to talk to. Testing software functionality on a real cycler is dangerous so we've created a submodule `arbinspoofer` to emulate some of the behavior of the Arbin software. Note that if you want this demo to work with your Arbin cycler you will need to set the correct IP and port."
   ]
  },
  {
   "attachments": {},
   "cell_type": "markdown",
   "metadata": {},
   "source": [
    "Wunderbar! Now let's start with creating a `CyclerInterface` class instance. Like the `ArbinSpoofer`, a class instance of `CyclerInterface`:"
   ]
  },
  {
   "attachments": {},
   "cell_type": "markdown",
   "metadata": {},
   "source": [
    "With a `CyclerInterface` we can read the status of any channel on the cycler:"
   ]
  },
  {
   "cell_type": "code",
   "execution_count": 9,
   "metadata": {},
   "outputs": [
    {
     "data": {
      "text/plain": [
       "{'header': 1287429013477645789,\n",
       " 'msg_length': 1779,\n",
       " 'command_code': 4005167107,\n",
       " 'extended_command_code': 0,\n",
       " 'number_of_channels': 1,\n",
       " 'channel': 7,\n",
       " 'status': 'Charge',\n",
       " 'comm_failure': 0,\n",
       " 'schedule': 'schedule_0720_c_0_05ma+TestObject_5.sdx',\n",
       " 'testname': 'C22_0723_Ccyc5_0_05',\n",
       " 'exit_condition': 'N/A',\n",
       " 'step_and_cycle_format': '[1] 1: Step_C, Current(A)',\n",
       " 'barcode': '',\n",
       " 'can_config_name': '',\n",
       " 'smb_config_name': '',\n",
       " 'master_channel': 7,\n",
       " 'test_time_s': 13537.0358,\n",
       " 'step_time_s': 13537.0358,\n",
       " 'voltage_v': 2.7059664726257324,\n",
       " 'current_a': 5.0961971282958984e-05,\n",
       " 'power_w': 0.00013790138473268598,\n",
       " 'charge_capacity_ah': 0.00019165615958627313,\n",
       " 'discharge_capacity_ah': 4.073645240576518e-11,\n",
       " 'charge_energy_wh': 0.0004543567483779043,\n",
       " 'discharge_energy_wh': 3.424877048630037e-11,\n",
       " 'internal_resistance_ohm': 0.0,\n",
       " 'dvdt_vbys': 0.0,\n",
       " 'acr_ohm': 0.0,\n",
       " 'aci_ohm': 0.0,\n",
       " 'aci_phase_degrees': 0.0,\n",
       " 'aux_voltage_count': 0,\n",
       " 'aux_temperature_count': 0,\n",
       " 'aux_pressure_count': 0,\n",
       " 'aux_external_count': 0,\n",
       " 'aux_flow_count': 0,\n",
       " 'aux_ao_count': 0,\n",
       " 'aux_di_count': 0,\n",
       " 'aux_do_count': 0,\n",
       " 'aux_humidity_count': 0,\n",
       " 'aux_safety_count': 0,\n",
       " 'aux_ph_count': 0,\n",
       " 'aux_density_count': 0,\n",
       " 'bms_count': 0,\n",
       " 'smb_count': 0,\n",
       " 'aux_voltage': [],\n",
       " 'aux_voltage_dt': [],\n",
       " 'aux_temperature': [],\n",
       " 'aux_temperature_dt': [],\n",
       " 'aux_pressure': [],\n",
       " 'aux_pressure_dt': [],\n",
       " 'aux_external': [],\n",
       " 'aux_external_dt': [],\n",
       " 'aux_flow': [],\n",
       " 'aux_flow_dt': [],\n",
       " 'aux_ao': [],\n",
       " 'aux_ao_dt': [],\n",
       " 'aux_di': [],\n",
       " 'aux_di_dt': [],\n",
       " 'aux_do': [],\n",
       " 'aux_do_dt': [],\n",
       " 'aux_humidity': [],\n",
       " 'aux_humidity_dt': [],\n",
       " 'aux_safety': [],\n",
       " 'aux_safety_dt': [],\n",
       " 'aux_ph': [],\n",
       " 'aux_ph_dt': [],\n",
       " 'aux_density': [],\n",
       " 'aux_density_dt': []}"
      ]
     },
     "execution_count": 9,
     "metadata": {},
     "output_type": "execute_result"
    }
   ],
   "source": [
    "cycler_interface.read_channel_status(channel=8)"
   ]
  },
  {
   "attachments": {},
   "cell_type": "markdown",
   "metadata": {},
   "source": [
    "The `CyclerInterface` class only allows for read operations with the cycler. To do more interesting we need a `ChannelInterface`:"
   ]
  },
  {
   "cell_type": "code",
   "execution_count": 7,
   "metadata": {},
   "outputs": [],
   "source": [
    "from pyctiarbin import ChannelInterface\n",
    "\n",
    "CHANNEL_INTERFACE_CONFIG = {\n",
    "  \"channel\": 1,\n",
    "  \"test_name\": \"fake_test_name\",\n",
    "  \"schedule_name\": \"Rest+207855.sdx\",\n",
    "  \"ip_address\": SPOOFER_CONFIG_DICT['ip'],\n",
    "  \"port\": SPOOFER_CONFIG_DICT['port'],\n",
    "  \"timeout_s\": 3,\n",
    "  \"msg_buffer_size\": 4096\n",
    "}\n",
    "channel_interface = ChannelInterface(CHANNEL_INTERFACE_CONFIG)"
   ]
  },
  {
   "attachments": {},
   "cell_type": "markdown",
   "metadata": {},
   "source": [
    "We do not need to specify a channel when reading channel status with a `ChannelInterface` since it is already specified in the config:"
   ]
  },
  {
   "cell_type": "code",
   "execution_count": 8,
   "metadata": {},
   "outputs": [
    {
     "data": {
      "text/plain": [
       "{'header': 1287429013477645789,\n",
       " 'msg_length': 1779,\n",
       " 'command_code': 4005167107,\n",
       " 'extended_command_code': 0,\n",
       " 'number_of_channels': 1,\n",
       " 'channel': 0,\n",
       " 'status': 'Idle',\n",
       " 'comm_failure': 0,\n",
       " 'schedule': 'fake_schedule',\n",
       " 'testname': 'fake_testname',\n",
       " 'exit_condition': 'none',\n",
       " 'step_and_cycle_format': 'none',\n",
       " 'barcode': 'none',\n",
       " 'can_config_name': 'none',\n",
       " 'smb_config_name': 'none',\n",
       " 'master_channel': 0,\n",
       " 'test_time_s': 0.0,\n",
       " 'step_time_s': 0.0,\n",
       " 'voltage_v': 0.0,\n",
       " 'current_a': 0.0,\n",
       " 'power_w': 0.0,\n",
       " 'charge_capacity_ah': 0.0,\n",
       " 'discharge_capacity_ah': 0.0,\n",
       " 'charge_energy_wh': 0.0,\n",
       " 'discharge_energy_wh': 0.0,\n",
       " 'internal_resistance_ohm': 0.0,\n",
       " 'dvdt_vbys': 0.0,\n",
       " 'acr_ohm': 0.0,\n",
       " 'aci_ohm': 0.0,\n",
       " 'aci_phase_degrees': 0.0,\n",
       " 'aux_voltage_count': 0,\n",
       " 'aux_temperature_count': 0,\n",
       " 'aux_pressure_count': 0,\n",
       " 'aux_external_count': 0,\n",
       " 'aux_flow_count': 0,\n",
       " 'aux_ao_count': 0,\n",
       " 'aux_di_count': 0,\n",
       " 'aux_do_count': 0,\n",
       " 'aux_humidity_count': 0,\n",
       " 'aux_safety_count': 0,\n",
       " 'aux_ph_count': 0,\n",
       " 'aux_density_count': 0,\n",
       " 'bms_count': 0,\n",
       " 'smb_count': 0,\n",
       " 'aux_voltage': [],\n",
       " 'aux_voltage_dt': [],\n",
       " 'aux_temperature': [],\n",
       " 'aux_temperature_dt': [],\n",
       " 'aux_pressure': [],\n",
       " 'aux_pressure_dt': [],\n",
       " 'aux_external': [],\n",
       " 'aux_external_dt': [],\n",
       " 'aux_flow': [],\n",
       " 'aux_flow_dt': [],\n",
       " 'aux_ao': [],\n",
       " 'aux_ao_dt': [],\n",
       " 'aux_di': [],\n",
       " 'aux_di_dt': [],\n",
       " 'aux_do': [],\n",
       " 'aux_do_dt': [],\n",
       " 'aux_humidity': [],\n",
       " 'aux_humidity_dt': [],\n",
       " 'aux_safety': [],\n",
       " 'aux_safety_dt': [],\n",
       " 'aux_ph': [],\n",
       " 'aux_ph_dt': [],\n",
       " 'aux_density': [],\n",
       " 'aux_density_dt': []}"
      ]
     },
     "execution_count": 8,
     "metadata": {},
     "output_type": "execute_result"
    }
   ],
   "source": [
    "channel_interface.read_channel_status()"
   ]
  },
  {
   "attachments": {},
   "cell_type": "markdown",
   "metadata": {},
   "source": [
    "We can also do things like assign a schedule to a channel. This method assigns the schedule to the channel defined in the config:"
   ]
  },
  {
   "cell_type": "code",
   "execution_count": 9,
   "metadata": {},
   "outputs": [
    {
     "data": {
      "text/plain": [
       "True"
      ]
     },
     "execution_count": 9,
     "metadata": {},
     "output_type": "execute_result"
    }
   ],
   "source": [
    "channel_interface.assign_schedule()"
   ]
  },
  {
   "attachments": {},
   "cell_type": "markdown",
   "metadata": {},
   "source": [
    "We can also start tests with the test name and schedule defined in the config:"
   ]
  },
  {
   "cell_type": "code",
   "execution_count": 10,
   "metadata": {},
   "outputs": [
    {
     "data": {
      "text/plain": [
       "True"
      ]
     },
     "execution_count": 10,
     "metadata": {},
     "output_type": "execute_result"
    }
   ],
   "source": [
    "channel_interface.start_test()"
   ]
  },
  {
   "attachments": {},
   "cell_type": "markdown",
   "metadata": {},
   "source": [
    "For running tests we can set the test meta-variable vales:"
   ]
  },
  {
   "cell_type": "code",
   "execution_count": 11,
   "metadata": {},
   "outputs": [
    {
     "data": {
      "text/plain": [
       "True"
      ]
     },
     "execution_count": 11,
     "metadata": {},
     "output_type": "execute_result"
    }
   ],
   "source": [
    "channel_interface.set_meta_variable(mv_num = 1, mv_value=3.200)"
   ]
  },
  {
   "attachments": {},
   "cell_type": "markdown",
   "metadata": {},
   "source": [
    "And we can also stop the test:"
   ]
  },
  {
   "cell_type": "code",
   "execution_count": 13,
   "metadata": {},
   "outputs": [
    {
     "data": {
      "text/plain": [
       "True"
      ]
     },
     "execution_count": 13,
     "metadata": {},
     "output_type": "execute_result"
    }
   ],
   "source": [
    "channel_interface.stop_test()"
   ]
  },
  {
   "cell_type": "code",
   "execution_count": 1,
   "metadata": {},
   "outputs": [],
   "source": [
    "from pyctiarbin import CyclerInterface\n",
    "\n",
    "CYCLER_INTERFACE_CONFIG = {\n",
    "    \"ip_address\": \"127.0.0.1\",\n",
    "    \"port\": 9031,\n",
    "    \"timeout_s\": 3,\n",
    "    \"msg_buffer_size\": 4096\n",
    "}\n",
    "\n",
    "cycler_interface = CyclerInterface(CYCLER_INTERFACE_CONFIG)\n",
    "\n",
    "# Example channel data\n",
    "\"\"\"\n",
    "{'header': 1287429013477645789,\n",
    " 'msg_length': 1779,\n",
    " 'command_code': 4005167107,\n",
    " 'extended_command_code': 0,\n",
    " 'number_of_channels': 1,\n",
    " 'channel': 7,\n",
    " 'status': 'Charge',\n",
    " 'comm_failure': 0,\n",
    " 'schedule': 'schedule_0720_c_0_05ma+TestObject_5.sdx',\n",
    " 'testname': 'C22_0723_Ccyc5_0_05',\n",
    " 'exit_condition': 'N/A',\n",
    " 'step_and_cycle_format': '[1] 1: Step_C, Current(A)',\n",
    " 'barcode': '',\n",
    " 'can_config_name': '',\n",
    " 'smb_config_name': '',\n",
    " 'master_channel': 7,\n",
    " 'test_time_s': 28361.393,\n",
    " 'step_time_s': 28361.393,\n",
    " 'voltage_v': 3.1838936805725098,\n",
    " 'current_a': 5.036592483520508e-05,\n",
    " 'power_w': 0.0001603597484063357,\n",
    " 'charge_capacity_ah': 0.00040218798676505685,\n",
    " 'discharge_capacity_ah': 4.073645240576518e-11,\n",
    " 'charge_energy_wh': 0.0010774398688226938,\n",
    " 'discharge_energy_wh': 3.424877048630037e-11,\n",
    " 'internal_resistance_ohm': 0.0,\n",
    " 'dvdt_vbys': 0.0,\n",
    " 'acr_ohm': 0.0,\n",
    " 'aci_ohm': 0.0,\n",
    " 'aci_phase_degrees': 0.0,\n",
    " 'aux_voltage_count': 0,\n",
    " 'aux_temperature_count': 0,\n",
    " 'aux_pressure_count': 0,\n",
    " 'aux_external_count': 0,\n",
    " 'aux_flow_count': 0,\n",
    " 'aux_ao_count': 0,\n",
    " 'aux_di_count': 0,\n",
    " 'aux_do_count': 0,\n",
    " 'aux_humidity_count': 0,\n",
    " 'aux_safety_count': 0,\n",
    " 'aux_ph_count': 0,\n",
    " 'aux_density_count': 0,\n",
    " 'bms_count': 0,\n",
    " 'smb_count': 0,\n",
    " 'aux_voltage': [],\n",
    " 'aux_voltage_dt': [],\n",
    " 'aux_temperature': [],\n",
    " 'aux_temperature_dt': [],\n",
    " 'aux_pressure': [],\n",
    " 'aux_pressure_dt': [],\n",
    " 'aux_external': [],\n",
    " 'aux_external_dt': [],\n",
    " 'aux_flow': [],\n",
    " 'aux_flow_dt': [],\n",
    " 'aux_ao': [],\n",
    " 'aux_ao_dt': [],\n",
    " 'aux_di': [],\n",
    " 'aux_di_dt': [],\n",
    " 'aux_do': [],\n",
    " 'aux_do_dt': [],\n",
    " 'aux_humidity': [],\n",
    " 'aux_humidity_dt': [],\n",
    " 'aux_safety': [],\n",
    " 'aux_safety_dt': [],\n",
    " 'aux_ph': [],\n",
    " 'aux_ph_dt': [],\n",
    " 'aux_density': [],\n",
    " 'aux_density_dt': []}\n",
    "\"\"\"\n",
    "\n",
    "channel_status = cycler_interface.read_channel_status(channel=8)"
   ]
  },
  {
   "cell_type": "code",
   "execution_count": 3,
   "metadata": {},
   "outputs": [
    {
     "name": "stdout",
     "output_type": "stream",
     "text": [
      "Channel #1: C23_0724_Ccyc10_0_03, Finished, 0.00mAh, 0.91V, 0.00mA\n",
      "Channel #2: , Idle, 0.00mAh, 2.52V, 0.00mA\n",
      "Channel #3: , Idle, 0.00mAh, 1.37V, 0.00mA\n",
      "Channel #4: , Idle, 0.00mAh, 0.92V, 0.00mA\n",
      "Channel #5: C20_0724_Dcyc49_0_1, Finished, 0.00mAh, 0.92V, 0.00mA\n",
      "Channel #6: C25_0724_Ccyc7_0_1, Finished, 0.00mAh, 0.91V, 0.00mA\n",
      "Channel #7: test_7, Finished, 0.10mAh, 2.55V, 0.00mA\n",
      "Channel #8: C22_0724_Ccyc5_0_05, Finished, 0.00mAh, 1.46V, 0.00mA\n"
     ]
    }
   ],
   "source": [
    "\n",
    "for channel_num in range(1, 9):\n",
    "    channel_status = cycler_interface.read_channel_status(channel=channel_num)\n",
    "    #if channel_status['status'] in ('Idle', 'Finished'):\n",
    "    #    continue\n",
    "    print('Channel #{}: {}, {}, {:.2f}mAh, {:.2f}V, {:.2f}mA'.format(channel_num, channel_status['testname'], channel_status['status'], channel_status['charge_capacity_ah'] * 1000.0, channel_status['voltage_v'], channel_status['current_a'] * 1000.0))"
   ]
  },
  {
   "cell_type": "code",
   "execution_count": 7,
   "metadata": {},
   "outputs": [
    {
     "name": "stdout",
     "output_type": "stream",
     "text": [
      "channel_status,channel_num_1based=5,schedule=schedule_0718_c_0_3ma+TestObject_5.sdx,status=Charge,testname=C20_0723_Ccyc49_0_3 charge_capacity_ah=0.00321684661321342,charge_energy_wh=0.00973273441195488,current_a=0.0002982020378112793,discharge_capacity_ah=0,discharge_energy_wh=0,power_w=0.0008790387073531747,step_time_s=38894.2421,test_time_s=38894.2421,voltage_v=2.947795867919922\n",
      "channel_status,channel_num_1based=7,schedule=jway_test+TestObject_5.sdx,status=Charge,testname=3 charge_capacity_ah=0.00011089118925156072,charge_energy_wh=0.0003303184930700809,current_a=0.009994149208068848,discharge_capacity_ah=0,discharge_energy_wh=0,power_w=0.03120306134223938,step_time_s=39.9378,test_time_s=39.9378,voltage_v=3.1221327781677246\n",
      "channel_status,channel_num_1based=5,schedule=schedule_0718_c_0_3ma+TestObject_5.sdx,status=Charge,testname=C20_0723_Ccyc49_0_3 charge_capacity_ah=0.0032173432409763336,charge_energy_wh=0.009734198451042175,current_a=0.00029861927032470703,discharge_capacity_ah=0,discharge_energy_wh=0,power_w=0.0008802917436696589,step_time_s=38900.2428,test_time_s=38900.2428,voltage_v=2.947873115539551\n",
      "channel_status,channel_num_1based=7,schedule=jway_test+TestObject_5.sdx,status=Charge,testname=3 charge_capacity_ah=0.00012755180068779737,charge_energy_wh=0.0003825293679255992,current_a=0.009995460510253906,discharge_capacity_ah=0,discharge_energy_wh=0,power_w=0.03152953088283539,step_time_s=46.5521,test_time_s=46.5521,voltage_v=3.1543850898742676\n",
      "channel_status,channel_num_1based=5,schedule=schedule_0718_c_0_3ma+TestObject_5.sdx,status=Charge,testname=C20_0723_Ccyc49_0_3 charge_capacity_ah=0.0032178398687392473,charge_energy_wh=0.00973566249012947,current_a=0.00029772520065307617,discharge_capacity_ah=0,discharge_energy_wh=0,power_w=0.0008776828180998564,step_time_s=38906.2434,test_time_s=38906.2434,voltage_v=2.947962760925293\n",
      "channel_status,channel_num_1based=5,schedule=schedule_0718_c_0_3ma+TestObject_5.sdx,status=Charge,testname=C20_0723_Ccyc49_0_3 charge_capacity_ah=0.003218337194994092,charge_energy_wh=0.009737128391861916,current_a=0.000296175479888916,discharge_capacity_ah=0,discharge_energy_wh=0,power_w=0.0008731278358027339,step_time_s=38912.2442,test_time_s=38912.2442,voltage_v=2.9480085372924805\n",
      "channel_status,channel_num_1based=5,schedule=schedule_0718_c_0_3ma+TestObject_5.sdx,status=Charge,testname=C20_0723_Ccyc49_0_3 charge_capacity_ah=0.0032190834172070026,charge_energy_wh=0.009739328175783157,current_a=0.0002981424331665039,discharge_capacity_ah=0,discharge_energy_wh=0,power_w=0.0008789756102487445,step_time_s=38921.245,test_time_s=38921.245,voltage_v=2.9481735229492188\n",
      "channel_status,channel_num_1based=5,schedule=schedule_0718_c_0_3ma+TestObject_5.sdx,status=Charge,testname=C20_0723_Ccyc49_0_3 charge_capacity_ah=0.003219581674784422,charge_energy_wh=0.009740796871483326,current_a=0.00029909610748291016,discharge_capacity_ah=0,discharge_energy_wh=0,power_w=0.0008818032220005989,step_time_s=38927.2457,test_time_s=38927.2457,voltage_v=2.9482269287109375\n",
      "channel_status,channel_num_1based=5,schedule=schedule_0718_c_0_3ma+TestObject_5.sdx,status=Charge,testname=C20_0723_Ccyc49_0_3 charge_capacity_ah=0.0032200796995311975,charge_energy_wh=0.009742265567183495,current_a=0.0002988576889038086,discharge_capacity_ah=0,discharge_energy_wh=0,power_w=0.0008811387815512717,step_time_s=38933.2462,test_time_s=38933.2462,voltage_v=2.9483556747436523\n",
      "channel_status,channel_num_1based=5,schedule=schedule_0718_c_0_3ma+TestObject_5.sdx,status=Charge,testname=C20_0723_Ccyc49_0_3 charge_capacity_ah=0.0032205774914473295,charge_energy_wh=0.009743733331561089,current_a=0.0002987980842590332,discharge_capacity_ah=0,discharge_energy_wh=0,power_w=0.0008809659047983587,step_time_s=38939.2464,test_time_s=38939.2464,voltage_v=2.9483652114868164\n",
      "channel_status,channel_num_1based=5,schedule=schedule_0718_c_0_3ma+TestObject_5.sdx,status=Charge,testname=C20_0723_Ccyc49_0_3 charge_capacity_ah=0.003221074352040887,charge_energy_wh=0.009745198301970959,current_a=0.0002980828285217285,discharge_capacity_ah=0,discharge_energy_wh=0,power_w=0.0008788121049292386,step_time_s=38945.2468,test_time_s=38945.2468,voltage_v=2.948214530944824\n",
      "channel_status,channel_num_1based=5,schedule=schedule_0718_c_0_3ma+TestObject_5.sdx,status=Charge,testname=C20_0723_Ccyc49_0_3 charge_capacity_ah=0.0032218201085925102,charge_energy_wh=0.009747397154569626,current_a=0.0002976655960083008,discharge_capacity_ah=0,discharge_energy_wh=0,power_w=0.0008775510941632092,step_time_s=38954.2475,test_time_s=38954.2475,voltage_v=2.948110580444336\n",
      "channel_status,channel_num_1based=5,schedule=schedule_0718_c_0_3ma+TestObject_5.sdx,status=Charge,testname=C20_0723_Ccyc49_0_3 charge_capacity_ah=0.003222317900508642,charge_energy_wh=0.009748863987624645,current_a=0.00029671192169189453,discharge_capacity_ah=0,discharge_energy_wh=0,power_w=0.0008747245301492512,step_time_s=38960.2477,test_time_s=38960.2477,voltage_v=2.9480600357055664\n",
      "channel_status,channel_num_1based=5,schedule=schedule_0718_c_0_3ma+TestObject_5.sdx,status=Charge,testname=C20_0723_Ccyc49_0_3 charge_capacity_ah=0.0032228142954409122,charge_energy_wh=0.00975032802671194,current_a=0.00029796361923217773,discharge_capacity_ah=0,discharge_energy_wh=0,power_w=0.0008783842204138637,step_time_s=38966.2481,test_time_s=38966.2481,voltage_v=2.947957992553711\n",
      "channel_status,channel_num_1based=5,schedule=schedule_0718_c_0_3ma+TestObject_5.sdx,status=Charge,testname=C20_0723_Ccyc49_0_3 charge_capacity_ah=0.0032233118545264006,charge_energy_wh=0.00975179485976696,current_a=0.00029653310775756836,discharge_capacity_ah=0,discharge_energy_wh=0,power_w=0.0008741826750338078,step_time_s=38972.2487,test_time_s=38972.2487,voltage_v=2.9480104446411133\n",
      "channel_status,channel_num_1based=5,schedule=schedule_0718_c_0_3ma+TestObject_5.sdx,status=Charge,testname=C20_0723_Ccyc49_0_3 charge_capacity_ah=0.003224056912586093,charge_energy_wh=0.009753990918397903,current_a=0.0002970099449157715,discharge_capacity_ah=0,discharge_energy_wh=0,power_w=0.0008755484595894814,step_time_s=38981.2493,test_time_s=38981.2493,voltage_v=2.9478759765625\n",
      "channel_status,channel_num_1based=5,schedule=schedule_0718_c_0_3ma+TestObject_5.sdx,status=Charge,testname=C20_0723_Ccyc49_0_3 charge_capacity_ah=0.003224552609026432,charge_energy_wh=0.009755452163517475,current_a=0.0002987980842590332,discharge_capacity_ah=0,discharge_energy_wh=0,power_w=0.0008805441320873797,step_time_s=38987.2497,test_time_s=38987.2497,voltage_v=2.946953773498535\n",
      "channel_status,channel_num_1based=5,schedule=schedule_0718_c_0_3ma+TestObject_5.sdx,status=Charge,testname=C20_0723_Ccyc49_0_3 charge_capacity_ah=0.0032250501681119204,charge_energy_wh=0.00975691806524992,current_a=0.00029736757278442383,discharge_capacity_ah=0,discharge_energy_wh=0,power_w=0.0008761073113419116,step_time_s=38993.2501,test_time_s=38993.2501,voltage_v=2.9462099075317383\n",
      "channel_status,channel_num_1based=5,schedule=schedule_0718_c_0_3ma+TestObject_5.sdx,status=Charge,testname=C20_0723_Ccyc49_0_3 charge_capacity_ah=0.003225547494366765,charge_energy_wh=0.00975838303565979,current_a=0.0002980828285217285,discharge_capacity_ah=0,discharge_energy_wh=0,power_w=0.0008780974894762039,step_time_s=38999.2505,test_time_s=38999.2505,voltage_v=2.945816993713379\n",
      "channel_status,channel_num_1based=5,schedule=schedule_0718_c_0_3ma+TestObject_5.sdx,status=Charge,testname=C20_0723_Ccyc49_0_3 charge_capacity_ah=0.0032260441221296787,charge_energy_wh=0.009759846143424511,current_a=0.00029927492141723633,discharge_capacity_ah=0,discharge_energy_wh=0,power_w=0.0008815406472422183,step_time_s=39005.251,test_time_s=39005.251,voltage_v=2.9455881118774414\n",
      "channel_status,channel_num_1based=5,schedule=schedule_0718_c_0_3ma+TestObject_5.sdx,status=Charge,testname=C20_0723_Ccyc49_0_3 charge_capacity_ah=0.003226790577173233,charge_energy_wh=0.009762044996023178,current_a=0.0003007054328918457,discharge_capacity_ah=0,discharge_energy_wh=0,power_w=0.0008856436470523477,step_time_s=39014.2514,test_time_s=39014.2514,voltage_v=2.9452199935913086\n",
      "channel_status,channel_num_1based=5,schedule=schedule_0718_c_0_3ma+TestObject_5.sdx,status=Charge,testname=C20_0723_Ccyc49_0_3 charge_capacity_ah=0.0032272874377667904,charge_energy_wh=0.009763508103787899,current_a=0.00029838085174560547,discharge_capacity_ah=0,discharge_energy_wh=0,power_w=0.0008787178667262197,step_time_s=39020.2518,test_time_s=39020.2518,voltage_v=2.9449539184570312\n",
      "channel_status,channel_num_1based=5,schedule=schedule_0718_c_0_3ma+TestObject_5.sdx,status=Charge,testname=C20_0723_Ccyc49_0_3 charge_capacity_ah=0.0032277838326990604,charge_energy_wh=0.00976496934890747,current_a=0.00029772520065307617,discharge_capacity_ah=0,discharge_energy_wh=0,power_w=0.0008767418330535293,step_time_s=39026.2521,test_time_s=39026.2521,voltage_v=2.9448022842407227\n",
      "channel_status,channel_num_1based=5,schedule=schedule_0718_c_0_3ma+TestObject_5.sdx,status=Charge,testname=C20_0723_Ccyc49_0_3 charge_capacity_ah=0.003228279994800687,charge_energy_wh=0.009766431525349617,current_a=0.0002968907356262207,discharge_capacity_ah=0,discharge_energy_wh=0,power_w=0.0008742613135837018,step_time_s=39032.2526,test_time_s=39032.2526,voltage_v=2.9447240829467773\n",
      "channel_status,channel_num_1based=5,schedule=schedule_0718_c_0_3ma+TestObject_5.sdx,status=Charge,testname=C20_0723_Ccyc49_0_3 charge_capacity_ah=0.0032287761569023132,charge_energy_wh=0.009767891839146614,current_a=0.0002970099449157715,discharge_capacity_ah=0,discharge_energy_wh=0,power_w=0.0008745636441744864,step_time_s=39038.2535,test_time_s=39038.2535,voltage_v=2.9445600509643555\n",
      "channel_status,channel_num_1based=5,schedule=schedule_0718_c_0_3ma+TestObject_5.sdx,status=Charge,testname=C20_0723_Ccyc49_0_3 charge_capacity_ah=0.003229521680623293,charge_energy_wh=0.009770086966454983,current_a=0.0002974271774291992,discharge_capacity_ah=0,discharge_energy_wh=0,power_w=0.0008757641189731658,step_time_s=39047.2541,test_time_s=39047.2541,voltage_v=2.9444656372070312\n",
      "channel_status,channel_num_1based=5,schedule=schedule_0718_c_0_3ma+TestObject_5.sdx,status=Charge,testname=C20_0723_Ccyc49_0_3 charge_capacity_ah=0.0032300185412168503,charge_energy_wh=0.009771550074219704,current_a=0.0002993941307067871,discharge_capacity_ah=0,discharge_energy_wh=0,power_w=0.0008815437322482467,step_time_s=39053.2547,test_time_s=39053.2547,voltage_v=2.944425582885742\n",
      "channel_status,channel_num_1based=5,schedule=schedule_0718_c_0_3ma+TestObject_5.sdx,status=Charge,testname=C20_0723_Ccyc49_0_3 charge_capacity_ah=0.0032305156346410513,charge_energy_wh=0.009773013181984425,current_a=0.00029736757278442383,discharge_capacity_ah=0,discharge_energy_wh=0,power_w=0.0008755639428272843,step_time_s=39059.2554,test_time_s=39059.2554,voltage_v=2.944382667541504\n",
      "channel_status,channel_num_1based=5,schedule=schedule_0718_c_0_3ma+TestObject_5.sdx,status=Charge,testname=C20_0723_Ccyc49_0_3 charge_capacity_ah=0.003231012262403965,charge_energy_wh=0.009774476289749146,current_a=0.00029647350311279297,discharge_capacity_ah=0,discharge_energy_wh=0,power_w=0.0008729079854674637,step_time_s=39065.2556,test_time_s=39065.2556,voltage_v=2.944303512573242\n",
      "channel_status,channel_num_1based=5,schedule=schedule_0718_c_0_3ma+TestObject_5.sdx,status=Charge,testname=C20_0723_Ccyc49_0_3 charge_capacity_ah=0.00323175685480237,charge_energy_wh=0.00977666862308979,current_a=0.0002982020378112793,discharge_capacity_ah=0,discharge_energy_wh=0,power_w=0.0008779751369729638,step_time_s=39074.2563,test_time_s=39074.2563,voltage_v=2.9442291259765625\n",
      "channel_status,channel_num_1based=5,schedule=schedule_0718_c_0_3ma+TestObject_5.sdx,status=Charge,testname=C20_0723_Ccyc49_0_3 charge_capacity_ah=0.0032322534825652838,charge_energy_wh=0.009778129868209362,current_a=0.00029927492141723633,discharge_capacity_ah=0,discharge_energy_wh=0,power_w=0.0008811056613922119,step_time_s=39080.2565,test_time_s=39080.2565,voltage_v=2.9441347122192383\n",
      "channel_status,channel_num_1based=5,schedule=schedule_0718_c_0_3ma+TestObject_5.sdx,status=Charge,testname=C20_0723_Ccyc49_0_3 charge_capacity_ah=0.0032327508088201284,charge_energy_wh=0.009779593907296658,current_a=0.0002974271774291992,discharge_capacity_ah=0,discharge_energy_wh=0,power_w=0.0008756540482863784,step_time_s=39086.2574,test_time_s=39086.2574,voltage_v=2.9440956115722656\n",
      "channel_status,channel_num_1based=5,schedule=schedule_0718_c_0_3ma+TestObject_5.sdx,status=Charge,testname=C20_0723_Ccyc49_0_3 charge_capacity_ah=0.0032332479022443295,charge_energy_wh=0.009781057946383953,current_a=0.0002981424331665039,discharge_capacity_ah=0,discharge_energy_wh=0,power_w=0.0008777589537203312,step_time_s=39092.2577,test_time_s=39092.2577,voltage_v=2.9440927505493164\n",
      "channel_status,channel_num_1based=5,schedule=schedule_0718_c_0_3ma+TestObject_5.sdx,status=Charge,testname=C20_0723_Ccyc49_0_3 charge_capacity_ah=0.0032337456941604614,charge_energy_wh=0.009782522916793823,current_a=0.0002993941307067871,discharge_capacity_ah=0,discharge_energy_wh=0,power_w=0.0008814192260615528,step_time_s=39098.2585,test_time_s=39098.2585,voltage_v=2.944009780883789\n",
      "channel_status,channel_num_1based=5,schedule=schedule_0718_c_0_3ma+TestObject_5.sdx,status=Charge,testname=C20_0723_Ccyc49_0_3 charge_capacity_ah=0.0032344921492040157,charge_energy_wh=0.009784720838069916,current_a=0.00030034780502319336,discharge_capacity_ah=0,discharge_energy_wh=0,power_w=0.0008841996896080673,step_time_s=39107.2591,test_time_s=39107.2591,voltage_v=2.9439191818237305\n",
      "channel_status,channel_num_1based=5,schedule=schedule_0718_c_0_3ma+TestObject_5.sdx,status=Charge,testname=C20_0723_Ccyc49_0_3 charge_capacity_ah=0.0032349908724427223,charge_energy_wh=0.009786189533770084,current_a=0.00030052661895751953,discharge_capacity_ah=0,discharge_energy_wh=0,power_w=0.0008847338031046093,step_time_s=39113.2595,test_time_s=39113.2595,voltage_v=2.9439449310302734\n",
      "channel_status,channel_num_1based=5,schedule=schedule_0718_c_0_3ma+TestObject_5.sdx,status=Charge,testname=C20_0723_Ccyc49_0_3 charge_capacity_ah=0.0032354886643588543,charge_energy_wh=0.009787654504179955,current_a=0.0002976059913635254,discharge_capacity_ah=0,discharge_energy_wh=0,power_w=0.000876117788720876,step_time_s=39119.2601,test_time_s=39119.2601,voltage_v=2.94388484954834\n",
      "channel_status,channel_num_1based=5,schedule=schedule_0718_c_0_3ma+TestObject_5.sdx,status=Charge,testname=C20_0723_Ccyc49_0_3 charge_capacity_ah=0.003235985292121768,charge_energy_wh=0.0097891166806221,current_a=0.0002974271774291992,discharge_capacity_ah=0,discharge_energy_wh=0,power_w=0.0008755808812566102,step_time_s=39125.2606,test_time_s=39125.2606,voltage_v=2.943849563598633\n",
      "channel_status,channel_num_1based=5,schedule=schedule_0718_c_0_3ma+TestObject_5.sdx,status=Charge,testname=C20_0723_Ccyc49_0_3 charge_capacity_ah=0.0032364821527153254,charge_energy_wh=0.009790578857064247,current_a=0.0002948641777038574,discharge_capacity_ah=0,discharge_energy_wh=0,power_w=0.0008679958409629762,step_time_s=39131.2614,test_time_s=39131.2614,voltage_v=2.943714141845703\n",
      "channel_status,channel_num_1based=5,schedule=schedule_0718_c_0_3ma+TestObject_5.sdx,status=Charge,testname=C20_0723_Ccyc49_0_3 charge_capacity_ah=0.0032372267451137304,charge_energy_wh=0.009792771190404892,current_a=0.0002962946891784668,discharge_capacity_ah=0,discharge_energy_wh=0,power_w=0.000872190750669688,step_time_s=39140.2617,test_time_s=39140.2617,voltage_v=2.943659782409668\n",
      "channel_status,channel_num_1based=5,schedule=schedule_0718_c_0_3ma+TestObject_5.sdx,status=Charge,testname=C20_0723_Ccyc49_0_3 charge_capacity_ah=0.0032377245370298624,charge_energy_wh=0.009794236160814762,current_a=0.00029927492141723633,discharge_capacity_ah=0,discharge_energy_wh=0,power_w=0.0008809210266917944,step_time_s=39146.2621,test_time_s=39146.2621,voltage_v=2.9435176849365234\n",
      "channel_status,channel_num_1based=5,schedule=schedule_0718_c_0_3ma+TestObject_5.sdx,status=Charge,testname=C20_0723_Ccyc49_0_3 charge_capacity_ah=0.0032382209319621325,charge_energy_wh=0.009795697405934334,current_a=0.0002976655960083008,discharge_capacity_ah=0,discharge_energy_wh=0,power_w=0.0008761918870732188,step_time_s=39152.2625,test_time_s=39152.2625,voltage_v=2.943544387817383\n",
      "channel_status,channel_num_1based=5,schedule=schedule_0718_c_0_3ma+TestObject_5.sdx,status=Charge,testname=C20_0723_Ccyc49_0_3 charge_capacity_ah=0.003238717094063759,charge_energy_wh=0.009797158651053905,current_a=0.0002995729446411133,discharge_capacity_ah=0,discharge_energy_wh=0,power_w=0.0008817731286399066,step_time_s=39158.2627,test_time_s=39158.2627,voltage_v=2.9434337615966797\n",
      "channel_status,channel_num_1based=5,schedule=schedule_0718_c_0_3ma+TestObject_5.sdx,status=Charge,testname=C20_0723_Ccyc49_0_3 charge_capacity_ah=0.0032394621521234512,charge_energy_wh=0.00979935098439455,current_a=0.0003001093864440918,discharge_capacity_ah=0,discharge_energy_wh=0,power_w=0.0008833432220853865,step_time_s=39167.2637,test_time_s=39167.2637,voltage_v=2.943404197692871\n",
      "channel_status,channel_num_1based=5,schedule=schedule_0718_c_0_3ma+TestObject_5.sdx,status=Charge,testname=C20_0723_Ccyc49_0_3 charge_capacity_ah=0.0032399597112089396,charge_energy_wh=0.009800815023481846,current_a=0.00029718875885009766,discharge_capacity_ah=0,discharge_energy_wh=0,power_w=0.0008747228421270847,step_time_s=39173.2644,test_time_s=39173.2644,voltage_v=2.943324089050293\n",
      "channel_status,channel_num_1based=5,schedule=schedule_0718_c_0_3ma+TestObject_5.sdx,status=Charge,testname=C20_0723_Ccyc49_0_3 charge_capacity_ah=0.0032404570374637842,charge_energy_wh=0.009802279993891716,current_a=0.0002995729446411133,discharge_capacity_ah=0,discharge_energy_wh=0,power_w=0.0008817122434265912,step_time_s=39179.2648,test_time_s=39179.2648,voltage_v=2.943230628967285\n",
      "channel_status,channel_num_1based=5,schedule=schedule_0718_c_0_3ma+TestObject_5.sdx,status=Charge,testname=C20_0723_Ccyc49_0_3 charge_capacity_ah=0.0032409534323960543,charge_energy_wh=0.009803740307688713,current_a=0.0002983212471008301,discharge_capacity_ah=0,discharge_energy_wh=0,power_w=0.000878017395734787,step_time_s=39185.2652,test_time_s=39185.2652,voltage_v=2.9431943893432617\n",
      "channel_status,channel_num_1based=5,schedule=schedule_0718_c_0_3ma+TestObject_5.sdx,status=Charge,testname=C20_0723_Ccyc49_0_3 charge_capacity_ah=0.0032414502929896116,charge_energy_wh=0.009805203415453434,current_a=0.00029736757278442383,discharge_capacity_ah=0,discharge_energy_wh=0,power_w=0.0008751983987167478,step_time_s=39191.2657,test_time_s=39191.2657,voltage_v=2.9431533813476562\n",
      "channel_status,channel_num_1based=5,schedule=schedule_0718_c_0_3ma+TestObject_5.sdx,status=Charge,testname=C20_0723_Ccyc49_0_3 charge_capacity_ah=0.0032421955838799477,charge_energy_wh=0.009807396680116653,current_a=0.0002987980842590332,discharge_capacity_ah=0,discharge_energy_wh=0,power_w=0.0008793892338871956,step_time_s=39200.2662,test_time_s=39200.2662,voltage_v=2.9430885314941406\n",
      "channel_status,channel_num_1based=5,schedule=schedule_0718_c_0_3ma+TestObject_5.sdx,status=Charge,testname=C20_0723_Ccyc49_0_3 charge_capacity_ah=0.0032426933757960796,charge_energy_wh=0.009808861650526524,current_a=0.0002974271774291992,discharge_capacity_ah=0,discharge_energy_wh=0,power_w=0.0008753531146794558,step_time_s=39206.2664,test_time_s=39206.2664,voltage_v=2.9430837631225586\n",
      "channel_status,channel_num_1based=5,schedule=schedule_0718_c_0_3ma+TestObject_5.sdx,status=Charge,testname=C20_0723_Ccyc49_0_3 charge_capacity_ah=0.0032431918662041426,charge_energy_wh=0.009810328483581543,current_a=0.00029718875885009766,discharge_capacity_ah=0,discharge_energy_wh=0,power_w=0.0008746420498937368,step_time_s=39212.267,test_time_s=39212.267,voltage_v=2.943052291870117\n",
      "channel_status,channel_num_1based=5,schedule=schedule_0718_c_0_3ma+TestObject_5.sdx,status=Charge,testname=C20_0723_Ccyc49_0_3 charge_capacity_ah=0.0032436889596283436,charge_energy_wh=0.009811791591346264,current_a=0.00029718875885009766,discharge_capacity_ah=0,discharge_energy_wh=0,power_w=0.0008746236562728882,step_time_s=39218.2677,test_time_s=39218.2677,voltage_v=2.942990303039551\n",
      "channel_status,channel_num_1based=5,schedule=schedule_0718_c_0_3ma+TestObject_5.sdx,status=Charge,testname=C20_0723_Ccyc49_0_3 charge_capacity_ah=0.0032444342505186796,charge_energy_wh=0.009813984856009483,current_a=0.0002993345260620117,discharge_capacity_ah=0,discharge_energy_wh=0,power_w=0.0008809003629721701,step_time_s=39227.2684,test_time_s=39227.2684,voltage_v=2.9428625106811523\n",
      "channel_status,channel_num_1based=5,schedule=schedule_0718_c_0_3ma+TestObject_5.sdx,status=Charge,testname=C20_0723_Ccyc49_0_3 charge_capacity_ah=0.003244931809604168,charge_energy_wh=0.009815448895096779,current_a=0.00029915571212768555,discharge_capacity_ah=0,discharge_energy_wh=0,power_w=0.0008803664240986109,step_time_s=39233.2692,test_time_s=39233.2692,voltage_v=2.9428367614746094\n",
      "channel_status,channel_num_1based=5,schedule=schedule_0718_c_0_3ma+TestObject_5.sdx,status=Charge,testname=C20_0723_Ccyc49_0_3 charge_capacity_ah=0.003245428903028369,charge_energy_wh=0.0098169120028615,current_a=0.000299990177154541,discharge_capacity_ah=0,discharge_energy_wh=0,power_w=0.0008827935089357197,step_time_s=39240.0483,test_time_s=39240.0483,voltage_v=2.9427413940429688\n",
      "channel_status,channel_num_1based=5,schedule=schedule_0718_c_0_3ma+TestObject_5.sdx,status=Charge,testname=C20_0723_Ccyc49_0_3 charge_capacity_ah=0.00324592599645257,charge_energy_wh=0.009818374179303646,current_a=0.0002982020378112793,discharge_capacity_ah=0,discharge_energy_wh=0,power_w=0.0008775150054134429,step_time_s=39245.2701,test_time_s=39245.2701,voltage_v=2.942686080932617\n",
      "channel_status,channel_num_1based=5,schedule=schedule_0718_c_0_3ma+TestObject_5.sdx,status=Charge,testname=C20_0723_Ccyc49_0_3 charge_capacity_ah=0.00324642239138484,charge_energy_wh=0.009819835424423218,current_a=0.00029718875885009766,discharge_capacity_ah=0,discharge_energy_wh=0,power_w=0.0008745046216063201,step_time_s=39251.2709,test_time_s=39251.2709,voltage_v=2.94258975982666\n",
      "channel_status,channel_num_1based=5,schedule=schedule_0718_c_0_3ma+TestObject_5.sdx,status=Charge,testname=C20_0723_Ccyc49_0_3 charge_capacity_ah=0.003247166983783245,charge_energy_wh=0.009822026826441288,current_a=0.00029844045639038086,discharge_capacity_ah=0,discharge_energy_wh=0,power_w=0.0008781431242823601,step_time_s=39260.2714,test_time_s=39260.2714,voltage_v=2.9424400329589844\n",
      "channel_status,channel_num_1based=5,schedule=schedule_0718_c_0_3ma+TestObject_5.sdx,status=Charge,testname=C20_0723_Ccyc49_0_3 charge_capacity_ah=0.0032476650085300207,charge_energy_wh=0.009823491796851158,current_a=0.000298917293548584,discharge_capacity_ah=0,discharge_energy_wh=0,power_w=0.0008795399335213006,step_time_s=39266.2719,test_time_s=39266.2719,voltage_v=2.9424190521240234\n",
      "channel_status,channel_num_1based=5,schedule=schedule_0718_c_0_3ma+TestObject_5.sdx,status=Charge,testname=C20_0723_Ccyc49_0_3 charge_capacity_ah=0.003248161869123578,charge_energy_wh=0.009824953973293304,current_a=0.00029838085174560547,discharge_capacity_ah=0,discharge_energy_wh=0,power_w=0.000877940736245364,step_time_s=39272.2727,test_time_s=39272.2727,voltage_v=2.942349433898926\n",
      "channel_status,channel_num_1based=5,schedule=schedule_0718_c_0_3ma+TestObject_5.sdx,status=Charge,testname=C20_0723_Ccyc49_0_3 charge_capacity_ah=0.0032486601267009974,charge_energy_wh=0.00982641987502575,current_a=0.0003018379211425781,discharge_capacity_ah=0,discharge_energy_wh=0,power_w=0.0008881016983650625,step_time_s=39278.2735,test_time_s=39278.2735,voltage_v=2.9423131942749023\n",
      "channel_status,channel_num_1based=5,schedule=schedule_0718_c_0_3ma+TestObject_5.sdx,status=Charge,testname=C20_0723_Ccyc49_0_3 charge_capacity_ah=0.0032494082115590572,charge_energy_wh=0.009828620590269566,current_a=0.0003000497817993164,discharge_capacity_ah=0,discharge_energy_wh=0,power_w=0.0008828518912196159,step_time_s=39287.2741,test_time_s=39287.2741,voltage_v=2.9423513412475586\n",
      "channel_status,channel_num_1based=5,schedule=schedule_0718_c_0_3ma+TestObject_5.sdx,status=Charge,testname=C20_0723_Ccyc49_0_3 charge_capacity_ah=0.00324990670196712,charge_energy_wh=0.009830087423324585,current_a=0.0002988576889038086,discharge_capacity_ah=0,discharge_energy_wh=0,power_w=0.0008793066954240203,step_time_s=39293.2743,test_time_s=39293.2743,voltage_v=2.942225456237793\n",
      "channel_status,channel_num_1based=5,schedule=schedule_0718_c_0_3ma+TestObject_5.sdx,status=Charge,testname=C20_0723_Ccyc49_0_3 charge_capacity_ah=0.003250405890867114,charge_energy_wh=0.009831556119024754,current_a=0.0002995729446411133,discharge_capacity_ah=0,discharge_energy_wh=0,power_w=0.0008814045577310026,step_time_s=39299.2753,test_time_s=39299.2753,voltage_v=2.9422035217285156\n",
      "channel_status,channel_num_1based=5,schedule=schedule_0718_c_0_3ma+TestObject_5.sdx,status=Charge,testname=C20_0723_Ccyc49_0_3 charge_capacity_ah=0.0032509039156138897,charge_energy_wh=0.009833022020757198,current_a=0.00029861927032470703,discharge_capacity_ah=0,discharge_energy_wh=0,power_w=0.0008785775862634182,step_time_s=39305.2757,test_time_s=39305.2757,voltage_v=2.9421329498291016\n",
      "channel_status,channel_num_1based=5,schedule=schedule_0718_c_0_3ma+TestObject_5.sdx,status=Charge,testname=C20_0723_Ccyc49_0_3 charge_capacity_ah=0.0032514012418687344,charge_energy_wh=0.00983448512852192,current_a=0.0002988576889038086,discharge_capacity_ah=0,discharge_energy_wh=0,power_w=0.0008792916196398437,step_time_s=39311.2758,test_time_s=39311.2758,voltage_v=2.9421749114990234\n",
      "channel_status,channel_num_1based=5,schedule=schedule_0718_c_0_3ma+TestObject_5.sdx,status=Charge,testname=C20_0723_Ccyc49_0_3 charge_capacity_ah=0.003252147464081645,charge_energy_wh=0.009836680255830288,current_a=0.00029909610748291016,discharge_capacity_ah=0,discharge_energy_wh=0,power_w=0.0008799719507806003,step_time_s=39320.2763,test_time_s=39320.2763,voltage_v=2.9421043395996094\n",
      "channel_status,channel_num_1based=5,schedule=schedule_0718_c_0_3ma+TestObject_5.sdx,status=Charge,testname=C20_0723_Ccyc49_0_3 charge_capacity_ah=0.003252645255997777,charge_energy_wh=0.009838145226240158,current_a=0.00029844045639038086,discharge_capacity_ah=0,discharge_energy_wh=0,power_w=0.0008780310163274407,step_time_s=39326.2769,test_time_s=39326.2769,voltage_v=2.9420642852783203\n",
      "channel_status,channel_num_1based=5,schedule=schedule_0718_c_0_3ma+TestObject_5.sdx,status=Charge,testname=C20_0723_Ccyc49_0_3 charge_capacity_ah=0.0032531425822526217,charge_energy_wh=0.009839608334004879,current_a=0.0002976655960083008,discharge_capacity_ah=0,discharge_energy_wh=0,power_w=0.0008757374016568065,step_time_s=39332.2769,test_time_s=39332.2769,voltage_v=2.9420175552368164\n",
      "channel_status,channel_num_1based=5,schedule=schedule_0718_c_0_3ma+TestObject_5.sdx,status=Charge,testname=C20_0723_Ccyc49_0_3 charge_capacity_ah=0.0032536403741687536,charge_energy_wh=0.009841072373092175,current_a=0.00029861927032470703,discharge_capacity_ah=0,discharge_energy_wh=0,power_w=0.0008785368991084397,step_time_s=39338.2777,test_time_s=39338.2777,voltage_v=2.9419965744018555\n",
      "channel_status,channel_num_1based=5,schedule=schedule_0718_c_0_3ma+TestObject_5.sdx,status=Charge,testname=C20_0723_Ccyc49_0_3 charge_capacity_ah=0.003254138631746173,charge_energy_wh=0.00984253827482462,current_a=0.0002964138984680176,discharge_capacity_ah=0,discharge_energy_wh=0,power_w=0.0008720142068341374,step_time_s=39344.278,test_time_s=39344.278,voltage_v=2.941880226135254\n",
      "channel_status,channel_num_1based=5,schedule=schedule_0718_c_0_3ma+TestObject_5.sdx,status=Charge,testname=C20_0723_Ccyc49_0_3 charge_capacity_ah=0.0032548843882977962,charge_energy_wh=0.009844732470810413,current_a=0.00030052661895751953,discharge_capacity_ah=0,discharge_energy_wh=0,power_w=0.0008840812370181084,step_time_s=39353.2787,test_time_s=39353.2787,voltage_v=2.9417734146118164\n",
      "channel_status,channel_num_1based=5,schedule=schedule_0718_c_0_3ma+TestObject_5.sdx,status=Charge,testname=C20_0723_Ccyc49_0_3 charge_capacity_ah=0.0032553821802139282,charge_energy_wh=0.009846196509897709,current_a=0.0003001093864440918,discharge_capacity_ah=0,discharge_energy_wh=0,power_w=0.0008828469435684383,step_time_s=39359.2789,test_time_s=39359.2789,voltage_v=2.9417505264282227\n",
      "channel_status,channel_num_1based=5,schedule=schedule_0718_c_0_3ma+TestObject_5.sdx,status=Charge,testname=C20_0723_Ccyc49_0_3 charge_capacity_ah=0.0032558792736381292,charge_energy_wh=0.00984765961766243,current_a=0.00029987096786499023,discharge_capacity_ah=0,discharge_energy_wh=0,power_w=0.0008821521769277751,step_time_s=39365.279,test_time_s=39365.279,voltage_v=2.9417724609375\n",
      "channel_status,channel_num_1based=5,schedule=schedule_0718_c_0_3ma+TestObject_5.sdx,status=Charge,testname=C20_0723_Ccyc49_0_3 charge_capacity_ah=0.003256376599892974,charge_energy_wh=0.009849121794104576,current_a=0.0002988576889038086,discharge_capacity_ah=0,discharge_energy_wh=0,power_w=0.0008791337022557855,step_time_s=39371.2792,test_time_s=39371.2792,voltage_v=2.9416465759277344\n",
      "channel_status,channel_num_1based=5,schedule=schedule_0718_c_0_3ma+TestObject_5.sdx,status=Charge,testname=C20_0723_Ccyc49_0_3 charge_capacity_ah=0.0032571235205978155,charge_energy_wh=0.009851318784058094,current_a=0.00029909610748291016,discharge_capacity_ah=0,discharge_energy_wh=0,power_w=0.0008798202034085989,step_time_s=39380.2796,test_time_s=39380.2796,voltage_v=2.9415969848632812\n",
      "channel_status,channel_num_1based=5,schedule=schedule_0718_c_0_3ma+TestObject_5.sdx,status=Charge,testname=C20_0723_Ccyc49_0_3 charge_capacity_ah=0.0032576213125139475,charge_energy_wh=0.009852783754467964,current_a=0.00029838085174560547,discharge_capacity_ah=0,discharge_energy_wh=0,power_w=0.0008777088369242847,step_time_s=39386.2802,test_time_s=39386.2802,voltage_v=2.9415721893310547\n",
      "channel_status,channel_num_1based=5,schedule=schedule_0718_c_0_3ma+TestObject_5.sdx,status=Charge,testname=C20_0723_Ccyc49_0_3 charge_capacity_ah=0.0032581195700913668,charge_energy_wh=0.009854248724877834,current_a=0.0002983212471008301,discharge_capacity_ah=0,discharge_energy_wh=0,power_w=0.0008775201276876032,step_time_s=39392.281,test_time_s=39392.281,voltage_v=2.9415273666381836\n",
      "channel_status,channel_num_1based=5,schedule=schedule_0718_c_0_3ma+TestObject_5.sdx,status=Charge,testname=C20_0723_Ccyc49_0_3 charge_capacity_ah=0.0032586161978542805,charge_energy_wh=0.009855709969997406,current_a=0.00029903650283813477,discharge_capacity_ah=0,discharge_energy_wh=0,power_w=0.0008796097827143967,step_time_s=39398.2814,test_time_s=39398.2814,voltage_v=2.9414796829223633\n",
      "channel_status,channel_num_1based=5,schedule=schedule_0718_c_0_3ma+TestObject_5.sdx,status=Charge,testname=C20_0723_Ccyc49_0_3 charge_capacity_ah=0.003259113756939769,charge_energy_wh=0.009857173077762127,current_a=0.00029784440994262695,discharge_capacity_ah=0,discharge_energy_wh=0,power_w=0.0008760964847169816,step_time_s=39404.2814,test_time_s=39404.2814,voltage_v=2.9414567947387695\n",
      "channel_status,channel_num_1based=5,schedule=schedule_0718_c_0_3ma+TestObject_5.sdx,status=Charge,testname=C20_0723_Ccyc49_0_3 charge_capacity_ah=0.003259858349338174,charge_energy_wh=0.009859363548457623,current_a=0.00029963254928588867,discharge_capacity_ah=0,discharge_energy_wh=0,power_w=0.000881333602592349,step_time_s=39413.2819,test_time_s=39413.2819,voltage_v=2.9413814544677734\n",
      "channel_status,channel_num_1based=5,schedule=schedule_0718_c_0_3ma+TestObject_5.sdx,status=Charge,testname=C20_0723_Ccyc49_0_3 charge_capacity_ah=0.0032603556755930185,charge_energy_wh=0.009860826656222343,current_a=0.00029855966567993164,discharge_capacity_ah=0,discharge_energy_wh=0,power_w=0.0008781753131188452,step_time_s=39419.2824,test_time_s=39419.2824,voltage_v=2.941372871398926\n",
      "channel_status,channel_num_1based=5,schedule=schedule_0718_c_0_3ma+TestObject_5.sdx,status=Charge,testname=C20_0723_Ccyc49_0_3 charge_capacity_ah=0.0032608523033559322,charge_energy_wh=0.00986228697001934,current_a=0.00029790401458740234,discharge_capacity_ah=0,discharge_energy_wh=0,power_w=0.0008762254728935659,step_time_s=39425.2828,test_time_s=39425.2828,voltage_v=2.9413013458251953\n",
      "channel_status,channel_num_1based=5,schedule=schedule_0718_c_0_3ma+TestObject_5.sdx,status=Charge,testname=C20_0723_Ccyc49_0_3 charge_capacity_ah=0.0032613484654575586,charge_energy_wh=0.009863746352493763,current_a=0.00029712915420532227,discharge_capacity_ah=0,discharge_energy_wh=0,power_w=0.0008739563054405153,step_time_s=39431.2835,test_time_s=39431.2835,voltage_v=2.9413347244262695\n",
      "channel_status,channel_num_1based=5,schedule=schedule_0718_c_0_3ma+TestObject_5.sdx,status=Charge,testname=C20_0723_Ccyc49_0_3 charge_capacity_ah=0.0032620946876704693,charge_energy_wh=0.009865941479802132,current_a=0.000298917293548584,discharge_capacity_ah=0,discharge_energy_wh=0,power_w=0.0008792026783339679,step_time_s=39440.2844,test_time_s=39440.2844,voltage_v=2.941290855407715\n",
      "channel_status,channel_num_1based=5,schedule=schedule_0718_c_0_3ma+TestObject_5.sdx,status=Charge,testname=C20_0723_Ccyc49_0_3 charge_capacity_ah=0.0032625922467559576,charge_energy_wh=0.009867405518889427,current_a=0.0002986788749694824,discharge_capacity_ah=0,discharge_energy_wh=0,power_w=0.000878507737070322,step_time_s=39446.2845,test_time_s=39446.2845,voltage_v=2.941311836242676\n",
      "channel_status,channel_num_1based=5,schedule=schedule_0718_c_0_3ma+TestObject_5.sdx,status=Charge,testname=C20_0723_Ccyc49_0_3 charge_capacity_ah=0.003263090504333377,charge_energy_wh=0.009868870489299297,current_a=0.0002993941307067871,discharge_capacity_ah=0,discharge_energy_wh=0,power_w=0.0008805940742604434,step_time_s=39452.2848,test_time_s=39452.2848,voltage_v=2.941253662109375\n",
      "channel_status,channel_num_1based=5,schedule=schedule_0718_c_0_3ma+TestObject_5.sdx,status=Charge,testname=C20_0723_Ccyc49_0_3 charge_capacity_ah=0.003263588296249509,charge_energy_wh=0.009870334528386593,current_a=0.00029975175857543945,discharge_capacity_ah=0,discharge_energy_wh=0,power_w=0.0008816293557174504,step_time_s=39458.2855,test_time_s=39458.2855,voltage_v=2.9411983489990234\n",
      "channel_status,channel_num_1based=5,schedule=schedule_0718_c_0_3ma+TestObject_5.sdx,status=Charge,testname=C20_0723_Ccyc49_0_3 charge_capacity_ah=0.003264083992689848,charge_energy_wh=0.00987179297953844,current_a=0.00029605627059936523,discharge_capacity_ah=0,discharge_energy_wh=0,power_w=0.000870712217874825,step_time_s=39464.2858,test_time_s=39464.2858,voltage_v=2.9410362243652344\n",
      "channel_status,channel_num_1based=5,schedule=schedule_0718_c_0_3ma+TestObject_5.sdx,status=Charge,testname=C20_0723_Ccyc49_0_3 charge_capacity_ah=0.0032648281194269657,charge_energy_wh=0.009873980656266212,current_a=0.0002987980842590332,discharge_capacity_ah=0,discharge_energy_wh=0,power_w=0.0008787101833149791,step_time_s=39473.2864,test_time_s=39473.2864,voltage_v=2.9408159255981445\n",
      "channel_status,channel_num_1based=5,schedule=schedule_0718_c_0_3ma+TestObject_5.sdx,status=Charge,testname=C20_0723_Ccyc49_0_3 charge_capacity_ah=0.0032653240486979485,charge_energy_wh=0.009875440038740635,current_a=0.0002962350845336914,discharge_capacity_ah=0,discharge_energy_wh=0,power_w=0.0008711558766663074,step_time_s=39479.2869,test_time_s=39479.2869,voltage_v=2.94075870513916\n",
      "channel_status,channel_num_1based=5,schedule=schedule_0718_c_0_3ma+TestObject_5.sdx,status=Charge,testname=C20_0723_Ccyc49_0_3 charge_capacity_ah=0.003265821374952793,charge_energy_wh=0.009876901283860207,current_a=0.0002995729446411133,discharge_capacity_ah=0,discharge_energy_wh=0,power_w=0.0008809474529698491,step_time_s=39485.2878,test_time_s=39485.2878,voltage_v=2.9406776428222656\n",
      "channel_status,channel_num_1based=5,schedule=schedule_0718_c_0_3ma+TestObject_5.sdx,status=Charge,testname=C20_0723_Ccyc49_0_3 charge_capacity_ah=0.003266317304223776,charge_energy_wh=0.009878360666334629,current_a=0.00029903650283813477,discharge_capacity_ah=0,discharge_energy_wh=0,power_w=0.0008793354500085115,step_time_s=39491.2879,test_time_s=39491.2879,voltage_v=2.9405622482299805\n",
      "channel_status,channel_num_1based=5,schedule=schedule_0718_c_0_3ma+TestObject_5.sdx,status=Charge,testname=C20_0723_Ccyc49_0_3 charge_capacity_ah=0.0032668139319866896,charge_energy_wh=0.009879820048809052,current_a=0.0002974271774291992,discharge_capacity_ah=0,discharge_energy_wh=0,power_w=0.0008745750528760254,step_time_s=39497.2883,test_time_s=39497.2883,voltage_v=2.9404678344726562\n",
      "channel_status,channel_num_1based=5,schedule=schedule_0718_c_0_3ma+TestObject_5.sdx,status=Charge,testname=C20_0723_Ccyc49_0_3 charge_capacity_ah=0.0032675578258931637,charge_energy_wh=0.009882007725536823,current_a=0.00029790401458740234,discharge_capacity_ah=0,discharge_energy_wh=0,power_w=0.0008759535849094391,step_time_s=39506.2886,test_time_s=39506.2886,voltage_v=2.9403886795043945\n",
      "channel_status,channel_num_1based=5,schedule=schedule_0718_c_0_3ma+TestObject_5.sdx,status=Charge,testname=C20_0723_Ccyc49_0_3 charge_capacity_ah=0.003268054686486721,charge_energy_wh=0.009883468970656395,current_a=0.00029987096786499023,discharge_capacity_ah=0,discharge_energy_wh=0,power_w=0.0008817280759103596,step_time_s=39512.2892,test_time_s=39512.2892,voltage_v=2.9403581619262695\n",
      "channel_status,channel_num_1based=5,schedule=schedule_0718_c_0_3ma+TestObject_5.sdx,status=Charge,testname=C20_0723_Ccyc49_0_3 charge_capacity_ah=0.0032685520127415657,charge_energy_wh=0.009884931147098541,current_a=0.00029838085174560547,discharge_capacity_ah=0,discharge_energy_wh=0,power_w=0.0008773713489063084,step_time_s=39518.2895,test_time_s=39518.2895,voltage_v=2.940441131591797\n",
      "channel_status,channel_num_1based=5,schedule=schedule_0718_c_0_3ma+TestObject_5.sdx,status=Charge,testname=C20_0723_Ccyc49_0_3 charge_capacity_ah=0.0032690484076738358,charge_energy_wh=0.009886390529572964,current_a=0.0002970099449157715,discharge_capacity_ah=0,discharge_energy_wh=0,power_w=0.0008732606656849384,step_time_s=39524.2901,test_time_s=39524.2901,voltage_v=2.9401731491088867\n"
     ]
    },
    {
     "name": "stderr",
     "output_type": "stream",
     "text": [
      "Error receiving message from Arbin!\n",
      "Traceback (most recent call last):\n",
      "  File \"C:\\Users\\Arbin\\pyctiarbin\\pyctiarbin\\cycler_interface.py\", line 134, in _send_receive_msg\n",
      "    rx_msg += self.__sock.recv(self.__config.msg_buffer_size)\n",
      "ConnectionAbortedError: [WinError 10053] An established connection was aborted by the software in your host machine\n",
      "[WinError 10053] An established connection was aborted by the software in your host machine\n",
      "Failed to create TCP/IP connection with Arbin server!\n",
      "Traceback (most recent call last):\n",
      "  File \"C:\\Users\\Arbin\\pyctiarbin\\pyctiarbin\\cycler_interface.py\", line 134, in _send_receive_msg\n",
      "    rx_msg += self.__sock.recv(self.__config.msg_buffer_size)\n",
      "ConnectionAbortedError: [WinError 10053] An established connection was aborted by the software in your host machine\n",
      "\n",
      "During handling of the above exception, another exception occurred:\n",
      "\n",
      "Traceback (most recent call last):\n",
      "  File \"C:\\Users\\Arbin\\pyctiarbin\\pyctiarbin\\cycler_interface.py\", line 183, in __create_connection\n",
      "    self.__sock.connect((ip, port))\n",
      "ConnectionRefusedError: [WinError 10061] No connection could be made because the target machine actively refused it\n",
      "[WinError 10061] No connection could be made because the target machine actively refused it\n"
     ]
    },
    {
     "ename": "KeyError",
     "evalue": "'status'",
     "output_type": "error",
     "traceback": [
      "\u001b[1;31m---------------------------------------------------------------------------\u001b[0m",
      "\u001b[1;31mKeyError\u001b[0m                                  Traceback (most recent call last)",
      "Cell \u001b[1;32mIn[7], line 23\u001b[0m\n\u001b[0;32m     21\u001b[0m \u001b[38;5;28;01mfor\u001b[39;00m channel_num \u001b[38;5;129;01min\u001b[39;00m \u001b[38;5;28mrange\u001b[39m(\u001b[38;5;241m1\u001b[39m, \u001b[38;5;241m8\u001b[39m):\n\u001b[0;32m     22\u001b[0m     channel_status \u001b[38;5;241m=\u001b[39m cycler_interface\u001b[38;5;241m.\u001b[39mread_channel_status(channel\u001b[38;5;241m=\u001b[39mchannel_num)\n\u001b[1;32m---> 23\u001b[0m     \u001b[38;5;28;01mif\u001b[39;00m \u001b[43mchannel_status\u001b[49m\u001b[43m[\u001b[49m\u001b[38;5;124;43m'\u001b[39;49m\u001b[38;5;124;43mstatus\u001b[39;49m\u001b[38;5;124;43m'\u001b[39;49m\u001b[43m]\u001b[49m \u001b[38;5;129;01min\u001b[39;00m (\u001b[38;5;124m'\u001b[39m\u001b[38;5;124mIdle\u001b[39m\u001b[38;5;124m'\u001b[39m, \u001b[38;5;124m'\u001b[39m\u001b[38;5;124mFinished\u001b[39m\u001b[38;5;124m'\u001b[39m):\n\u001b[0;32m     24\u001b[0m         \u001b[38;5;28;01mcontinue\u001b[39;00m\n\u001b[0;32m     25\u001b[0m     point \u001b[38;5;241m=\u001b[39m Point(\u001b[38;5;124m\"\u001b[39m\u001b[38;5;124mchannel_status\u001b[39m\u001b[38;5;124m\"\u001b[39m)\u001b[38;5;241m.\u001b[39mtag(\u001b[38;5;124m\"\u001b[39m\u001b[38;5;124mchannel_num_1based\u001b[39m\u001b[38;5;124m\"\u001b[39m, channel_num)\n",
      "\u001b[1;31mKeyError\u001b[0m: 'status'"
     ]
    }
   ],
   "source": [
    "import os\n",
    "import time\n",
    "\n",
    "from dotenv import load_dotenv\n",
    "load_dotenv()\n",
    "\n",
    "from influxdb_client_3 import InfluxDBClient3, Point\n",
    "\n",
    "token = os.environ.get(\"INFLUXDB_TOKEN\")\n",
    "org = \"Eng\"\n",
    "host = \"https://us-east-1-1.aws.cloud2.influxdata.com\"\n",
    "\n",
    "client = InfluxDBClient3(host=host, token=token, org=org)\n",
    "\n",
    "database=\"arbin-cycler\"\n",
    "\n",
    "tag_names = ['status', 'schedule', 'testname', 'step_and_cycle_format']\n",
    "field_names = ['test_time_s', 'step_time_s', 'voltage_v', 'current_a', 'power_w', 'charge_capacity_ah', 'discharge_capacity_ah', 'charge_energy_wh', 'discharge_energy_wh']\n",
    "\n",
    "while True:\n",
    "    for channel_num in range(1, 9):\n",
    "        channel_status = cycler_interface.read_channel_status(channel=channel_num)\n",
    "        if channel_status['status'] in ('Idle', 'Finished'):\n",
    "            continue\n",
    "        point = Point(\"channel_status\").tag(\"channel_num_1based\", channel_num)\n",
    "        for tag_name in tag_names:\n",
    "            point = point.tag(tag_name, channel_status[tag_name])\n",
    "        for field_name in field_names:\n",
    "            point = point.field(field_name, channel_status[field_name])\n",
    "        client.write(database=database, record=point)\n",
    "        print(point)\n",
    "    time.sleep(5)"
   ]
  }
 ],
 "metadata": {
  "kernelspec": {
   "display_name": "Python 3 (ipykernel)",
   "language": "python",
   "name": "python3"
  },
  "language_info": {
   "codemirror_mode": {
    "name": "ipython",
    "version": 3
   },
   "file_extension": ".py",
   "mimetype": "text/x-python",
   "name": "python",
   "nbconvert_exporter": "python",
   "pygments_lexer": "ipython3",
   "version": "3.8.19"
  }
 },
 "nbformat": 4,
 "nbformat_minor": 4
}
